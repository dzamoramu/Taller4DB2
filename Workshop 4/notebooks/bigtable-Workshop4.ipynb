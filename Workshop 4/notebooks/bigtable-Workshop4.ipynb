{
 "cells": [
  {
   "cell_type": "code",
   "execution_count": 82,
   "metadata": {},
   "outputs": [],
   "source": [
    "#import the modules\n",
    "import os\n",
    "import numpy as np\n",
    "import pandas as pd\n",
    "import plotly as plt \n",
    "from plotly.subplots import make_subplots\n",
    "import plotly.graph_objects as go\n",
    "import matplotlib.pyplot as plt1"
   ]
  },
  {
   "cell_type": "code",
   "execution_count": 56,
   "metadata": {},
   "outputs": [],
   "source": [
    "import time\n",
    "import google.cloud\n",
    "from datetime import datetime as dt\n",
    "\n",
    "from google.cloud import bigtable\n",
    "from google.cloud.bigtable import column_family\n",
    "from google.cloud.bigtable import row_filters"
   ]
  },
  {
   "cell_type": "code",
   "execution_count": 57,
   "metadata": {},
   "outputs": [],
   "source": [
    "plant1_pg = pd.read_csv(\"../Data/Plant_1_Generation_Data.csv\")\n",
    "plant2_pg = pd.read_csv(\"../Data/Plant_1_Weather_Sensor_Data.csv\")\n",
    "plant1_ws = pd.read_csv(\"../Data/Plant_2_Generation_Data.csv\")\n",
    "plant2_ws = pd.read_csv(\"../Data/Plant_2_Weather_Sensor_Data.csv\")\n",
    "\n",
    "#creando un mapa\n",
    "files = {\n",
    "    0: plant1_pg,\n",
    "    1: plant1_ws,\n",
    "    2: plant2_pg,\n",
    "    3: plant2_ws,\n",
    "}"
   ]
  },
  {
   "cell_type": "code",
   "execution_count": 58,
   "metadata": {},
   "outputs": [
    {
     "data": {
      "text/html": [
       "<div>\n",
       "<style scoped>\n",
       "    .dataframe tbody tr th:only-of-type {\n",
       "        vertical-align: middle;\n",
       "    }\n",
       "\n",
       "    .dataframe tbody tr th {\n",
       "        vertical-align: top;\n",
       "    }\n",
       "\n",
       "    .dataframe thead th {\n",
       "        text-align: right;\n",
       "    }\n",
       "</style>\n",
       "<table border=\"1\" class=\"dataframe\">\n",
       "  <thead>\n",
       "    <tr style=\"text-align: right;\">\n",
       "      <th></th>\n",
       "      <th>DATE_TIME</th>\n",
       "      <th>PLANT_ID</th>\n",
       "      <th>SOURCE_KEY</th>\n",
       "      <th>DC_POWER</th>\n",
       "      <th>AC_POWER</th>\n",
       "      <th>DAILY_YIELD</th>\n",
       "      <th>TOTAL_YIELD</th>\n",
       "    </tr>\n",
       "  </thead>\n",
       "  <tbody>\n",
       "    <tr>\n",
       "      <th>18717</th>\n",
       "      <td>24-05-2020 18:00</td>\n",
       "      <td>4135001</td>\n",
       "      <td>VHMLBKoKgIrUVDU</td>\n",
       "      <td>626.0</td>\n",
       "      <td>60.6125</td>\n",
       "      <td>8159.750</td>\n",
       "      <td>7280491.750</td>\n",
       "    </tr>\n",
       "    <tr>\n",
       "      <th>58142</th>\n",
       "      <td>12-06-2020 22:30</td>\n",
       "      <td>4135001</td>\n",
       "      <td>iCRJl6heRkivqQ3</td>\n",
       "      <td>0.0</td>\n",
       "      <td>0.0000</td>\n",
       "      <td>5888.000</td>\n",
       "      <td>7391359.000</td>\n",
       "    </tr>\n",
       "    <tr>\n",
       "      <th>41020</th>\n",
       "      <td>04-06-2020 18:15</td>\n",
       "      <td>4135001</td>\n",
       "      <td>ZnxXDlPa8U1GXgE</td>\n",
       "      <td>295.0</td>\n",
       "      <td>28.4875</td>\n",
       "      <td>8173.750</td>\n",
       "      <td>6679057.750</td>\n",
       "    </tr>\n",
       "    <tr>\n",
       "      <th>19872</th>\n",
       "      <td>25-05-2020 07:45</td>\n",
       "      <td>4135001</td>\n",
       "      <td>3PZuoBAID5Wc2HD</td>\n",
       "      <td>3691.5</td>\n",
       "      <td>362.2750</td>\n",
       "      <td>287.875</td>\n",
       "      <td>7061855.875</td>\n",
       "    </tr>\n",
       "    <tr>\n",
       "      <th>43279</th>\n",
       "      <td>05-06-2020 21:00</td>\n",
       "      <td>4135001</td>\n",
       "      <td>VHMLBKoKgIrUVDU</td>\n",
       "      <td>0.0</td>\n",
       "      <td>0.0000</td>\n",
       "      <td>0.000</td>\n",
       "      <td>7371554.000</td>\n",
       "    </tr>\n",
       "  </tbody>\n",
       "</table>\n",
       "</div>"
      ],
      "text/plain": [
       "              DATE_TIME  PLANT_ID       SOURCE_KEY  DC_POWER  AC_POWER  \\\n",
       "18717  24-05-2020 18:00   4135001  VHMLBKoKgIrUVDU     626.0   60.6125   \n",
       "58142  12-06-2020 22:30   4135001  iCRJl6heRkivqQ3       0.0    0.0000   \n",
       "41020  04-06-2020 18:15   4135001  ZnxXDlPa8U1GXgE     295.0   28.4875   \n",
       "19872  25-05-2020 07:45   4135001  3PZuoBAID5Wc2HD    3691.5  362.2750   \n",
       "43279  05-06-2020 21:00   4135001  VHMLBKoKgIrUVDU       0.0    0.0000   \n",
       "\n",
       "       DAILY_YIELD  TOTAL_YIELD  \n",
       "18717     8159.750  7280491.750  \n",
       "58142     5888.000  7391359.000  \n",
       "41020     8173.750  6679057.750  \n",
       "19872      287.875  7061855.875  \n",
       "43279        0.000  7371554.000  "
      ]
     },
     "execution_count": 58,
     "metadata": {},
     "output_type": "execute_result"
    }
   ],
   "source": [
    "#datos de generación de energía de la planta 1\n",
    "files[0].sample(5)"
   ]
  },
  {
   "cell_type": "code",
   "execution_count": 59,
   "metadata": {},
   "outputs": [
    {
     "data": {
      "text/html": [
       "<div>\n",
       "<style scoped>\n",
       "    .dataframe tbody tr th:only-of-type {\n",
       "        vertical-align: middle;\n",
       "    }\n",
       "\n",
       "    .dataframe tbody tr th {\n",
       "        vertical-align: top;\n",
       "    }\n",
       "\n",
       "    .dataframe thead th {\n",
       "        text-align: right;\n",
       "    }\n",
       "</style>\n",
       "<table border=\"1\" class=\"dataframe\">\n",
       "  <thead>\n",
       "    <tr style=\"text-align: right;\">\n",
       "      <th></th>\n",
       "      <th>DATE_TIME</th>\n",
       "      <th>PLANT_ID</th>\n",
       "      <th>SOURCE_KEY</th>\n",
       "      <th>DC_POWER</th>\n",
       "      <th>AC_POWER</th>\n",
       "      <th>DAILY_YIELD</th>\n",
       "      <th>TOTAL_YIELD</th>\n",
       "    </tr>\n",
       "  </thead>\n",
       "  <tbody>\n",
       "    <tr>\n",
       "      <th>59310</th>\n",
       "      <td>2020-06-14 00:30:00</td>\n",
       "      <td>4136001</td>\n",
       "      <td>oZZkBaNadn6DNKz</td>\n",
       "      <td>0.000000</td>\n",
       "      <td>0.000000</td>\n",
       "      <td>0.000000</td>\n",
       "      <td>1.708272e+09</td>\n",
       "    </tr>\n",
       "    <tr>\n",
       "      <th>5118</th>\n",
       "      <td>2020-05-17 10:15:00</td>\n",
       "      <td>4136001</td>\n",
       "      <td>mqwcsP2rE7J0TFp</td>\n",
       "      <td>739.000000</td>\n",
       "      <td>723.566667</td>\n",
       "      <td>2018.200000</td>\n",
       "      <td>5.935993e+08</td>\n",
       "    </tr>\n",
       "    <tr>\n",
       "      <th>43952</th>\n",
       "      <td>2020-06-06 18:00:00</td>\n",
       "      <td>4136001</td>\n",
       "      <td>mqwcsP2rE7J0TFp</td>\n",
       "      <td>103.714286</td>\n",
       "      <td>100.800000</td>\n",
       "      <td>8324.142857</td>\n",
       "      <td>5.937510e+08</td>\n",
       "    </tr>\n",
       "    <tr>\n",
       "      <th>42408</th>\n",
       "      <td>2020-06-06 00:30:00</td>\n",
       "      <td>4136001</td>\n",
       "      <td>Qf4GUc1pJu5T6c6</td>\n",
       "      <td>0.000000</td>\n",
       "      <td>0.000000</td>\n",
       "      <td>7599.000000</td>\n",
       "      <td>8.385822e+08</td>\n",
       "    </tr>\n",
       "    <tr>\n",
       "      <th>1942</th>\n",
       "      <td>2020-05-15 22:00:00</td>\n",
       "      <td>4136001</td>\n",
       "      <td>LlT2YUhhzqhg5Sw</td>\n",
       "      <td>0.000000</td>\n",
       "      <td>0.000000</td>\n",
       "      <td>9234.000000</td>\n",
       "      <td>2.826020e+08</td>\n",
       "    </tr>\n",
       "  </tbody>\n",
       "</table>\n",
       "</div>"
      ],
      "text/plain": [
       "                 DATE_TIME  PLANT_ID       SOURCE_KEY    DC_POWER    AC_POWER  \\\n",
       "59310  2020-06-14 00:30:00   4136001  oZZkBaNadn6DNKz    0.000000    0.000000   \n",
       "5118   2020-05-17 10:15:00   4136001  mqwcsP2rE7J0TFp  739.000000  723.566667   \n",
       "43952  2020-06-06 18:00:00   4136001  mqwcsP2rE7J0TFp  103.714286  100.800000   \n",
       "42408  2020-06-06 00:30:00   4136001  Qf4GUc1pJu5T6c6    0.000000    0.000000   \n",
       "1942   2020-05-15 22:00:00   4136001  LlT2YUhhzqhg5Sw    0.000000    0.000000   \n",
       "\n",
       "       DAILY_YIELD   TOTAL_YIELD  \n",
       "59310     0.000000  1.708272e+09  \n",
       "5118   2018.200000  5.935993e+08  \n",
       "43952  8324.142857  5.937510e+08  \n",
       "42408  7599.000000  8.385822e+08  \n",
       "1942   9234.000000  2.826020e+08  "
      ]
     },
     "execution_count": 59,
     "metadata": {},
     "output_type": "execute_result"
    }
   ],
   "source": [
    "#datos del sensor meteorológico de la planta 1\n",
    "files[1].sample(5)"
   ]
  },
  {
   "cell_type": "code",
   "execution_count": 60,
   "metadata": {},
   "outputs": [
    {
     "data": {
      "text/html": [
       "<div>\n",
       "<style scoped>\n",
       "    .dataframe tbody tr th:only-of-type {\n",
       "        vertical-align: middle;\n",
       "    }\n",
       "\n",
       "    .dataframe tbody tr th {\n",
       "        vertical-align: top;\n",
       "    }\n",
       "\n",
       "    .dataframe thead th {\n",
       "        text-align: right;\n",
       "    }\n",
       "</style>\n",
       "<table border=\"1\" class=\"dataframe\">\n",
       "  <thead>\n",
       "    <tr style=\"text-align: right;\">\n",
       "      <th></th>\n",
       "      <th>DATE_TIME</th>\n",
       "      <th>PLANT_ID</th>\n",
       "      <th>SOURCE_KEY</th>\n",
       "      <th>AMBIENT_TEMPERATURE</th>\n",
       "      <th>MODULE_TEMPERATURE</th>\n",
       "      <th>IRRADIATION</th>\n",
       "    </tr>\n",
       "  </thead>\n",
       "  <tbody>\n",
       "    <tr>\n",
       "      <th>2444</th>\n",
       "      <td>2020-06-10 07:30:00</td>\n",
       "      <td>4135001</td>\n",
       "      <td>HmiyD2TTLFNqkNe</td>\n",
       "      <td>23.833986</td>\n",
       "      <td>30.019338</td>\n",
       "      <td>0.281592</td>\n",
       "    </tr>\n",
       "    <tr>\n",
       "      <th>2697</th>\n",
       "      <td>2020-06-12 22:45:00</td>\n",
       "      <td>4135001</td>\n",
       "      <td>HmiyD2TTLFNqkNe</td>\n",
       "      <td>22.599839</td>\n",
       "      <td>21.062392</td>\n",
       "      <td>0.000000</td>\n",
       "    </tr>\n",
       "    <tr>\n",
       "      <th>781</th>\n",
       "      <td>2020-05-23 19:00:00</td>\n",
       "      <td>4135001</td>\n",
       "      <td>HmiyD2TTLFNqkNe</td>\n",
       "      <td>27.826436</td>\n",
       "      <td>26.217763</td>\n",
       "      <td>0.000000</td>\n",
       "    </tr>\n",
       "    <tr>\n",
       "      <th>2145</th>\n",
       "      <td>2020-06-07 04:45:00</td>\n",
       "      <td>4135001</td>\n",
       "      <td>HmiyD2TTLFNqkNe</td>\n",
       "      <td>21.940753</td>\n",
       "      <td>20.406875</td>\n",
       "      <td>0.000000</td>\n",
       "    </tr>\n",
       "    <tr>\n",
       "      <th>2097</th>\n",
       "      <td>2020-06-06 16:45:00</td>\n",
       "      <td>4135001</td>\n",
       "      <td>HmiyD2TTLFNqkNe</td>\n",
       "      <td>25.334819</td>\n",
       "      <td>27.200340</td>\n",
       "      <td>0.081607</td>\n",
       "    </tr>\n",
       "    <tr>\n",
       "      <th>1557</th>\n",
       "      <td>2020-06-01 01:30:00</td>\n",
       "      <td>4135001</td>\n",
       "      <td>HmiyD2TTLFNqkNe</td>\n",
       "      <td>22.348948</td>\n",
       "      <td>20.201571</td>\n",
       "      <td>0.000000</td>\n",
       "    </tr>\n",
       "  </tbody>\n",
       "</table>\n",
       "</div>"
      ],
      "text/plain": [
       "                DATE_TIME  PLANT_ID       SOURCE_KEY  AMBIENT_TEMPERATURE  \\\n",
       "2444  2020-06-10 07:30:00   4135001  HmiyD2TTLFNqkNe            23.833986   \n",
       "2697  2020-06-12 22:45:00   4135001  HmiyD2TTLFNqkNe            22.599839   \n",
       "781   2020-05-23 19:00:00   4135001  HmiyD2TTLFNqkNe            27.826436   \n",
       "2145  2020-06-07 04:45:00   4135001  HmiyD2TTLFNqkNe            21.940753   \n",
       "2097  2020-06-06 16:45:00   4135001  HmiyD2TTLFNqkNe            25.334819   \n",
       "1557  2020-06-01 01:30:00   4135001  HmiyD2TTLFNqkNe            22.348948   \n",
       "\n",
       "      MODULE_TEMPERATURE  IRRADIATION  \n",
       "2444           30.019338     0.281592  \n",
       "2697           21.062392     0.000000  \n",
       "781            26.217763     0.000000  \n",
       "2145           20.406875     0.000000  \n",
       "2097           27.200340     0.081607  \n",
       "1557           20.201571     0.000000  "
      ]
     },
     "execution_count": 60,
     "metadata": {},
     "output_type": "execute_result"
    }
   ],
   "source": [
    "#datos de generación de energía de la planta 2\n",
    "files[2].sample(6)"
   ]
  },
  {
   "cell_type": "code",
   "execution_count": 69,
   "metadata": {},
   "outputs": [
    {
     "data": {
      "text/html": [
       "<div>\n",
       "<style scoped>\n",
       "    .dataframe tbody tr th:only-of-type {\n",
       "        vertical-align: middle;\n",
       "    }\n",
       "\n",
       "    .dataframe tbody tr th {\n",
       "        vertical-align: top;\n",
       "    }\n",
       "\n",
       "    .dataframe thead th {\n",
       "        text-align: right;\n",
       "    }\n",
       "</style>\n",
       "<table border=\"1\" class=\"dataframe\">\n",
       "  <thead>\n",
       "    <tr style=\"text-align: right;\">\n",
       "      <th></th>\n",
       "      <th>DATE_TIME</th>\n",
       "      <th>SOURCE_KEY</th>\n",
       "      <th>AMBIENT_TEMPERATURE</th>\n",
       "      <th>MODULE_TEMPERATURE</th>\n",
       "      <th>IRRADIATION</th>\n",
       "    </tr>\n",
       "  </thead>\n",
       "  <tbody>\n",
       "    <tr>\n",
       "      <th>2875</th>\n",
       "      <td>2020-06-14 00:00:00</td>\n",
       "      <td>iq8k7ZNt4Mwm3w0</td>\n",
       "      <td>23.775726</td>\n",
       "      <td>22.117714</td>\n",
       "      <td>0.000000</td>\n",
       "    </tr>\n",
       "    <tr>\n",
       "      <th>3126</th>\n",
       "      <td>2020-06-16 14:45:00</td>\n",
       "      <td>iq8k7ZNt4Mwm3w0</td>\n",
       "      <td>30.503410</td>\n",
       "      <td>41.550000</td>\n",
       "      <td>0.447018</td>\n",
       "    </tr>\n",
       "    <tr>\n",
       "      <th>3213</th>\n",
       "      <td>2020-06-17 12:30:00</td>\n",
       "      <td>iq8k7ZNt4Mwm3w0</td>\n",
       "      <td>28.204097</td>\n",
       "      <td>37.502086</td>\n",
       "      <td>0.470896</td>\n",
       "    </tr>\n",
       "    <tr>\n",
       "      <th>1845</th>\n",
       "      <td>2020-06-03 06:15:00</td>\n",
       "      <td>iq8k7ZNt4Mwm3w0</td>\n",
       "      <td>23.793487</td>\n",
       "      <td>22.963337</td>\n",
       "      <td>0.019233</td>\n",
       "    </tr>\n",
       "    <tr>\n",
       "      <th>762</th>\n",
       "      <td>2020-05-22 23:00:00</td>\n",
       "      <td>iq8k7ZNt4Mwm3w0</td>\n",
       "      <td>27.658895</td>\n",
       "      <td>25.563916</td>\n",
       "      <td>0.000000</td>\n",
       "    </tr>\n",
       "    <tr>\n",
       "      <th>3083</th>\n",
       "      <td>2020-06-16 04:00:00</td>\n",
       "      <td>iq8k7ZNt4Mwm3w0</td>\n",
       "      <td>24.040096</td>\n",
       "      <td>22.555920</td>\n",
       "      <td>0.000000</td>\n",
       "    </tr>\n",
       "    <tr>\n",
       "      <th>1165</th>\n",
       "      <td>2020-05-27 03:45:00</td>\n",
       "      <td>iq8k7ZNt4Mwm3w0</td>\n",
       "      <td>25.990678</td>\n",
       "      <td>24.988451</td>\n",
       "      <td>0.000000</td>\n",
       "    </tr>\n",
       "  </tbody>\n",
       "</table>\n",
       "</div>"
      ],
      "text/plain": [
       "               DATE_TIME       SOURCE_KEY  AMBIENT_TEMPERATURE  \\\n",
       "2875 2020-06-14 00:00:00  iq8k7ZNt4Mwm3w0            23.775726   \n",
       "3126 2020-06-16 14:45:00  iq8k7ZNt4Mwm3w0            30.503410   \n",
       "3213 2020-06-17 12:30:00  iq8k7ZNt4Mwm3w0            28.204097   \n",
       "1845 2020-06-03 06:15:00  iq8k7ZNt4Mwm3w0            23.793487   \n",
       "762  2020-05-22 23:00:00  iq8k7ZNt4Mwm3w0            27.658895   \n",
       "3083 2020-06-16 04:00:00  iq8k7ZNt4Mwm3w0            24.040096   \n",
       "1165 2020-05-27 03:45:00  iq8k7ZNt4Mwm3w0            25.990678   \n",
       "\n",
       "      MODULE_TEMPERATURE  IRRADIATION  \n",
       "2875           22.117714     0.000000  \n",
       "3126           41.550000     0.447018  \n",
       "3213           37.502086     0.470896  \n",
       "1845           22.963337     0.019233  \n",
       "762            25.563916     0.000000  \n",
       "3083           22.555920     0.000000  \n",
       "1165           24.988451     0.000000  "
      ]
     },
     "execution_count": 69,
     "metadata": {},
     "output_type": "execute_result"
    }
   ],
   "source": [
    "#datos del sensor meteorológico de la planta 2\n",
    "files[3].sample(7)"
   ]
  },
  {
   "cell_type": "code",
   "execution_count": null,
   "metadata": {},
   "outputs": [],
   "source": [
    "INSTANCE_ID = 'table-1'\n",
    "TABLE_ID = 'orders_{}'.format(time.time())"
   ]
  },
  {
   "cell_type": "code",
   "execution_count": null,
   "metadata": {},
   "outputs": [],
   "source": [
    "TABLE_ID"
   ]
  },
  {
   "cell_type": "markdown",
   "metadata": {},
   "source": [
    "### Connecting to BigTable"
   ]
  },
  {
   "cell_type": "code",
   "execution_count": null,
   "metadata": {},
   "outputs": [],
   "source": [
    "client = bigtable.Client.from_service_account_json('../Data/unbosque-service-account.json', admin = True)"
   ]
  },
  {
   "cell_type": "code",
   "execution_count": null,
   "metadata": {},
   "outputs": [],
   "source": [
    "print('Connecting to database instance')\n",
    "instance = client.instance(INSTANCE_ID)"
   ]
  },
  {
   "cell_type": "markdown",
   "metadata": {},
   "source": [
    "### Creating a table\n"
   ]
  },
  {
   "cell_type": "code",
   "execution_count": null,
   "metadata": {},
   "outputs": [],
   "source": [
    "print('Creating the {} table'.format(TABLE_ID))\n",
    "table = instance.table(TABLE_ID)\n",
    "\n",
    "if not table.exists():\n",
    "    table.create()\n",
    "else:\n",
    "    print(\"ERROR: Table {} already exists\".format(TABLE_ID))"
   ]
  },
  {
   "cell_type": "code",
   "execution_count": null,
   "metadata": {},
   "outputs": [],
   "source": [
    "print('Creating all family columns')\n",
    "\n",
    "customer_cfId = 'customer'\n",
    "customer_cf = table.column_family(customer_cfId)\n",
    "customer_cf.create()\n",
    "\n",
    "items_cfId = 'items'\n",
    "items_cf = table.column_family(items_cfId)\n",
    "items_cf.create()\n",
    "\n",
    "delivery_cfId = 'delivery'\n",
    "delivery_cf = table.column_family(delivery_cfId)\n",
    "delivery_cf.create()"
   ]
  },
  {
   "cell_type": "markdown",
   "metadata": {},
   "source": [
    "### Inserting data de los csv cargados previamente"
   ]
  },
  {
   "cell_type": "code",
   "execution_count": null,
   "metadata": {},
   "outputs": [],
   "source": []
  },
  {
   "cell_type": "code",
   "execution_count": null,
   "metadata": {},
   "outputs": [],
   "source": []
  },
  {
   "cell_type": "code",
   "execution_count": 62,
   "metadata": {},
   "outputs": [],
   "source": [
    "for i in range(len(files)):\n",
    "    files[i][\"DATE_TIME\"] = pd.to_datetime(files[i][\"DATE_TIME\"])\n",
    "    files[i] =  files[i].drop(columns=[\"PLANT_ID\"], axis=1)"
   ]
  },
  {
   "cell_type": "code",
   "execution_count": 63,
   "metadata": {},
   "outputs": [],
   "source": [
    "import plotly.express as px\n",
    "\n",
    "#Metodo para crear la grafica inicial de la consulta por la clave\n",
    "def LineChart(temp_df,columns,start_date_time,end_date_time, title):\n",
    "    temp_df = temp_df.loc[start_date_time : end_date_time]\n",
    "    fig = px.line(temp_df[columns])\n",
    "    fig.update_layout(title_text = title, title_x=0.5)\n",
    "    fig.show()"
   ]
  },
  {
   "cell_type": "markdown",
   "metadata": {},
   "source": [
    "### Consulta 1"
   ]
  },
  {
   "cell_type": "code",
   "execution_count": 95,
   "metadata": {},
   "outputs": [
    {
     "data": {
      "application/vnd.plotly.v1+json": {
       "config": {
        "plotlyServerURL": "https://plot.ly"
       },
       "data": [],
       "layout": {
        "legend": {
         "tracegroupgap": 0
        },
        "margin": {
         "t": 60
        },
        "template": {
         "data": {
          "bar": [
           {
            "error_x": {
             "color": "#2a3f5f"
            },
            "error_y": {
             "color": "#2a3f5f"
            },
            "marker": {
             "line": {
              "color": "#E5ECF6",
              "width": 0.5
             },
             "pattern": {
              "fillmode": "overlay",
              "size": 10,
              "solidity": 0.2
             }
            },
            "type": "bar"
           }
          ],
          "barpolar": [
           {
            "marker": {
             "line": {
              "color": "#E5ECF6",
              "width": 0.5
             },
             "pattern": {
              "fillmode": "overlay",
              "size": 10,
              "solidity": 0.2
             }
            },
            "type": "barpolar"
           }
          ],
          "carpet": [
           {
            "aaxis": {
             "endlinecolor": "#2a3f5f",
             "gridcolor": "white",
             "linecolor": "white",
             "minorgridcolor": "white",
             "startlinecolor": "#2a3f5f"
            },
            "baxis": {
             "endlinecolor": "#2a3f5f",
             "gridcolor": "white",
             "linecolor": "white",
             "minorgridcolor": "white",
             "startlinecolor": "#2a3f5f"
            },
            "type": "carpet"
           }
          ],
          "choropleth": [
           {
            "colorbar": {
             "outlinewidth": 0,
             "ticks": ""
            },
            "type": "choropleth"
           }
          ],
          "contour": [
           {
            "colorbar": {
             "outlinewidth": 0,
             "ticks": ""
            },
            "colorscale": [
             [
              0,
              "#0d0887"
             ],
             [
              0.1111111111111111,
              "#46039f"
             ],
             [
              0.2222222222222222,
              "#7201a8"
             ],
             [
              0.3333333333333333,
              "#9c179e"
             ],
             [
              0.4444444444444444,
              "#bd3786"
             ],
             [
              0.5555555555555556,
              "#d8576b"
             ],
             [
              0.6666666666666666,
              "#ed7953"
             ],
             [
              0.7777777777777778,
              "#fb9f3a"
             ],
             [
              0.8888888888888888,
              "#fdca26"
             ],
             [
              1,
              "#f0f921"
             ]
            ],
            "type": "contour"
           }
          ],
          "contourcarpet": [
           {
            "colorbar": {
             "outlinewidth": 0,
             "ticks": ""
            },
            "type": "contourcarpet"
           }
          ],
          "heatmap": [
           {
            "colorbar": {
             "outlinewidth": 0,
             "ticks": ""
            },
            "colorscale": [
             [
              0,
              "#0d0887"
             ],
             [
              0.1111111111111111,
              "#46039f"
             ],
             [
              0.2222222222222222,
              "#7201a8"
             ],
             [
              0.3333333333333333,
              "#9c179e"
             ],
             [
              0.4444444444444444,
              "#bd3786"
             ],
             [
              0.5555555555555556,
              "#d8576b"
             ],
             [
              0.6666666666666666,
              "#ed7953"
             ],
             [
              0.7777777777777778,
              "#fb9f3a"
             ],
             [
              0.8888888888888888,
              "#fdca26"
             ],
             [
              1,
              "#f0f921"
             ]
            ],
            "type": "heatmap"
           }
          ],
          "heatmapgl": [
           {
            "colorbar": {
             "outlinewidth": 0,
             "ticks": ""
            },
            "colorscale": [
             [
              0,
              "#0d0887"
             ],
             [
              0.1111111111111111,
              "#46039f"
             ],
             [
              0.2222222222222222,
              "#7201a8"
             ],
             [
              0.3333333333333333,
              "#9c179e"
             ],
             [
              0.4444444444444444,
              "#bd3786"
             ],
             [
              0.5555555555555556,
              "#d8576b"
             ],
             [
              0.6666666666666666,
              "#ed7953"
             ],
             [
              0.7777777777777778,
              "#fb9f3a"
             ],
             [
              0.8888888888888888,
              "#fdca26"
             ],
             [
              1,
              "#f0f921"
             ]
            ],
            "type": "heatmapgl"
           }
          ],
          "histogram": [
           {
            "marker": {
             "pattern": {
              "fillmode": "overlay",
              "size": 10,
              "solidity": 0.2
             }
            },
            "type": "histogram"
           }
          ],
          "histogram2d": [
           {
            "colorbar": {
             "outlinewidth": 0,
             "ticks": ""
            },
            "colorscale": [
             [
              0,
              "#0d0887"
             ],
             [
              0.1111111111111111,
              "#46039f"
             ],
             [
              0.2222222222222222,
              "#7201a8"
             ],
             [
              0.3333333333333333,
              "#9c179e"
             ],
             [
              0.4444444444444444,
              "#bd3786"
             ],
             [
              0.5555555555555556,
              "#d8576b"
             ],
             [
              0.6666666666666666,
              "#ed7953"
             ],
             [
              0.7777777777777778,
              "#fb9f3a"
             ],
             [
              0.8888888888888888,
              "#fdca26"
             ],
             [
              1,
              "#f0f921"
             ]
            ],
            "type": "histogram2d"
           }
          ],
          "histogram2dcontour": [
           {
            "colorbar": {
             "outlinewidth": 0,
             "ticks": ""
            },
            "colorscale": [
             [
              0,
              "#0d0887"
             ],
             [
              0.1111111111111111,
              "#46039f"
             ],
             [
              0.2222222222222222,
              "#7201a8"
             ],
             [
              0.3333333333333333,
              "#9c179e"
             ],
             [
              0.4444444444444444,
              "#bd3786"
             ],
             [
              0.5555555555555556,
              "#d8576b"
             ],
             [
              0.6666666666666666,
              "#ed7953"
             ],
             [
              0.7777777777777778,
              "#fb9f3a"
             ],
             [
              0.8888888888888888,
              "#fdca26"
             ],
             [
              1,
              "#f0f921"
             ]
            ],
            "type": "histogram2dcontour"
           }
          ],
          "mesh3d": [
           {
            "colorbar": {
             "outlinewidth": 0,
             "ticks": ""
            },
            "type": "mesh3d"
           }
          ],
          "parcoords": [
           {
            "line": {
             "colorbar": {
              "outlinewidth": 0,
              "ticks": ""
             }
            },
            "type": "parcoords"
           }
          ],
          "pie": [
           {
            "automargin": true,
            "type": "pie"
           }
          ],
          "scatter": [
           {
            "marker": {
             "colorbar": {
              "outlinewidth": 0,
              "ticks": ""
             }
            },
            "type": "scatter"
           }
          ],
          "scatter3d": [
           {
            "line": {
             "colorbar": {
              "outlinewidth": 0,
              "ticks": ""
             }
            },
            "marker": {
             "colorbar": {
              "outlinewidth": 0,
              "ticks": ""
             }
            },
            "type": "scatter3d"
           }
          ],
          "scattercarpet": [
           {
            "marker": {
             "colorbar": {
              "outlinewidth": 0,
              "ticks": ""
             }
            },
            "type": "scattercarpet"
           }
          ],
          "scattergeo": [
           {
            "marker": {
             "colorbar": {
              "outlinewidth": 0,
              "ticks": ""
             }
            },
            "type": "scattergeo"
           }
          ],
          "scattergl": [
           {
            "marker": {
             "colorbar": {
              "outlinewidth": 0,
              "ticks": ""
             }
            },
            "type": "scattergl"
           }
          ],
          "scattermapbox": [
           {
            "marker": {
             "colorbar": {
              "outlinewidth": 0,
              "ticks": ""
             }
            },
            "type": "scattermapbox"
           }
          ],
          "scatterpolar": [
           {
            "marker": {
             "colorbar": {
              "outlinewidth": 0,
              "ticks": ""
             }
            },
            "type": "scatterpolar"
           }
          ],
          "scatterpolargl": [
           {
            "marker": {
             "colorbar": {
              "outlinewidth": 0,
              "ticks": ""
             }
            },
            "type": "scatterpolargl"
           }
          ],
          "scatterternary": [
           {
            "marker": {
             "colorbar": {
              "outlinewidth": 0,
              "ticks": ""
             }
            },
            "type": "scatterternary"
           }
          ],
          "surface": [
           {
            "colorbar": {
             "outlinewidth": 0,
             "ticks": ""
            },
            "colorscale": [
             [
              0,
              "#0d0887"
             ],
             [
              0.1111111111111111,
              "#46039f"
             ],
             [
              0.2222222222222222,
              "#7201a8"
             ],
             [
              0.3333333333333333,
              "#9c179e"
             ],
             [
              0.4444444444444444,
              "#bd3786"
             ],
             [
              0.5555555555555556,
              "#d8576b"
             ],
             [
              0.6666666666666666,
              "#ed7953"
             ],
             [
              0.7777777777777778,
              "#fb9f3a"
             ],
             [
              0.8888888888888888,
              "#fdca26"
             ],
             [
              1,
              "#f0f921"
             ]
            ],
            "type": "surface"
           }
          ],
          "table": [
           {
            "cells": {
             "fill": {
              "color": "#EBF0F8"
             },
             "line": {
              "color": "white"
             }
            },
            "header": {
             "fill": {
              "color": "#C8D4E3"
             },
             "line": {
              "color": "white"
             }
            },
            "type": "table"
           }
          ]
         },
         "layout": {
          "annotationdefaults": {
           "arrowcolor": "#2a3f5f",
           "arrowhead": 0,
           "arrowwidth": 1
          },
          "autotypenumbers": "strict",
          "coloraxis": {
           "colorbar": {
            "outlinewidth": 0,
            "ticks": ""
           }
          },
          "colorscale": {
           "diverging": [
            [
             0,
             "#8e0152"
            ],
            [
             0.1,
             "#c51b7d"
            ],
            [
             0.2,
             "#de77ae"
            ],
            [
             0.3,
             "#f1b6da"
            ],
            [
             0.4,
             "#fde0ef"
            ],
            [
             0.5,
             "#f7f7f7"
            ],
            [
             0.6,
             "#e6f5d0"
            ],
            [
             0.7,
             "#b8e186"
            ],
            [
             0.8,
             "#7fbc41"
            ],
            [
             0.9,
             "#4d9221"
            ],
            [
             1,
             "#276419"
            ]
           ],
           "sequential": [
            [
             0,
             "#0d0887"
            ],
            [
             0.1111111111111111,
             "#46039f"
            ],
            [
             0.2222222222222222,
             "#7201a8"
            ],
            [
             0.3333333333333333,
             "#9c179e"
            ],
            [
             0.4444444444444444,
             "#bd3786"
            ],
            [
             0.5555555555555556,
             "#d8576b"
            ],
            [
             0.6666666666666666,
             "#ed7953"
            ],
            [
             0.7777777777777778,
             "#fb9f3a"
            ],
            [
             0.8888888888888888,
             "#fdca26"
            ],
            [
             1,
             "#f0f921"
            ]
           ],
           "sequentialminus": [
            [
             0,
             "#0d0887"
            ],
            [
             0.1111111111111111,
             "#46039f"
            ],
            [
             0.2222222222222222,
             "#7201a8"
            ],
            [
             0.3333333333333333,
             "#9c179e"
            ],
            [
             0.4444444444444444,
             "#bd3786"
            ],
            [
             0.5555555555555556,
             "#d8576b"
            ],
            [
             0.6666666666666666,
             "#ed7953"
            ],
            [
             0.7777777777777778,
             "#fb9f3a"
            ],
            [
             0.8888888888888888,
             "#fdca26"
            ],
            [
             1,
             "#f0f921"
            ]
           ]
          },
          "colorway": [
           "#636efa",
           "#EF553B",
           "#00cc96",
           "#ab63fa",
           "#FFA15A",
           "#19d3f3",
           "#FF6692",
           "#B6E880",
           "#FF97FF",
           "#FECB52"
          ],
          "font": {
           "color": "#2a3f5f"
          },
          "geo": {
           "bgcolor": "white",
           "lakecolor": "white",
           "landcolor": "#E5ECF6",
           "showlakes": true,
           "showland": true,
           "subunitcolor": "white"
          },
          "hoverlabel": {
           "align": "left"
          },
          "hovermode": "closest",
          "mapbox": {
           "style": "light"
          },
          "paper_bgcolor": "white",
          "plot_bgcolor": "#E5ECF6",
          "polar": {
           "angularaxis": {
            "gridcolor": "white",
            "linecolor": "white",
            "ticks": ""
           },
           "bgcolor": "#E5ECF6",
           "radialaxis": {
            "gridcolor": "white",
            "linecolor": "white",
            "ticks": ""
           }
          },
          "scene": {
           "xaxis": {
            "backgroundcolor": "#E5ECF6",
            "gridcolor": "white",
            "gridwidth": 2,
            "linecolor": "white",
            "showbackground": true,
            "ticks": "",
            "zerolinecolor": "white"
           },
           "yaxis": {
            "backgroundcolor": "#E5ECF6",
            "gridcolor": "white",
            "gridwidth": 2,
            "linecolor": "white",
            "showbackground": true,
            "ticks": "",
            "zerolinecolor": "white"
           },
           "zaxis": {
            "backgroundcolor": "#E5ECF6",
            "gridcolor": "white",
            "gridwidth": 2,
            "linecolor": "white",
            "showbackground": true,
            "ticks": "",
            "zerolinecolor": "white"
           }
          },
          "shapedefaults": {
           "line": {
            "color": "#2a3f5f"
           }
          },
          "ternary": {
           "aaxis": {
            "gridcolor": "white",
            "linecolor": "white",
            "ticks": ""
           },
           "baxis": {
            "gridcolor": "white",
            "linecolor": "white",
            "ticks": ""
           },
           "bgcolor": "#E5ECF6",
           "caxis": {
            "gridcolor": "white",
            "linecolor": "white",
            "ticks": ""
           }
          },
          "title": {
           "x": 0.05
          },
          "xaxis": {
           "automargin": true,
           "gridcolor": "white",
           "linecolor": "white",
           "ticks": "",
           "title": {
            "standoff": 15
           },
           "zerolinecolor": "white",
           "zerolinewidth": 2
          },
          "yaxis": {
           "automargin": true,
           "gridcolor": "white",
           "linecolor": "white",
           "ticks": "",
           "title": {
            "standoff": 15
           },
           "zerolinecolor": "white",
           "zerolinewidth": 2
          }
         }
        },
        "title": {
         "text": "Medidas de temperatura ambiente para la planta 2 ",
         "x": 0.5
        },
        "xaxis": {
         "anchor": "y",
         "domain": [
          0,
          1
         ],
         "title": {
          "text": "DATE_TIME"
         }
        },
        "yaxis": {
         "anchor": "x",
         "domain": [
          0,
          1
         ],
         "title": {
          "text": "value"
         }
        }
       }
      }
     },
     "metadata": {},
     "output_type": "display_data"
    }
   ],
   "source": [
    "data0 = files[3][files[3].SOURCE_KEY == \"iq8k7ZNt4Mwm3w0\"]\n",
    "\n",
    "#x_values = data0['AMBIENT_TEMPERATURE']\n",
    "#y_values = data0['MODULE_TEMPERATURE']\n",
    "#plt1.bar(x_values, y_values)\n",
    "data0= data0.set_index('DATE_TIME')\n",
    "\n",
    "s1time = \"01-06-2020 06:00\"\n",
    "e1time = \"01-06-2020 12:00\"\n",
    "LineChart(data0, [\"AMBIENT_TEMPERATURE\",\"MODULE_TEMPERATURE\"],s1time,e1time,\"Medidas de temperatura ambiente para la planta 2 \")\n"
   ]
  },
  {
   "cell_type": "markdown",
   "metadata": {},
   "source": [
    "### Consulta 2"
   ]
  },
  {
   "cell_type": "code",
   "execution_count": 72,
   "metadata": {},
   "outputs": [
    {
     "data": {
      "application/vnd.plotly.v1+json": {
       "config": {
        "plotlyServerURL": "https://plot.ly"
       },
       "data": [
        {
         "hovertemplate": "variable=DC_POWER<br>DATE_TIME=%{x}<br>value=%{y}<extra></extra>",
         "legendgroup": "DC_POWER",
         "line": {
          "color": "#636efa",
          "dash": "solid"
         },
         "marker": {
          "symbol": "circle"
         },
         "mode": "lines",
         "name": "DC_POWER",
         "orientation": "v",
         "showlegend": true,
         "type": "scatter",
         "x": [
          "2020-05-15T02:15:00",
          "2020-05-15T02:30:00",
          "2020-05-15T02:45:00",
          "2020-05-15T03:00:00",
          "2020-05-15T03:15:00",
          "2020-05-15T03:30:00",
          "2020-05-15T03:45:00",
          "2020-05-15T04:00:00",
          "2020-05-15T04:15:00",
          "2020-05-15T04:30:00",
          "2020-05-15T04:45:00",
          "2020-05-15T05:00:00",
          "2020-05-15T05:15:00",
          "2020-05-15T05:30:00",
          "2020-05-15T05:45:00",
          "2020-05-15T06:00:00",
          "2020-05-15T06:15:00",
          "2020-05-15T06:30:00",
          "2020-05-15T06:45:00",
          "2020-05-15T07:00:00",
          "2020-05-15T07:15:00",
          "2020-05-15T07:30:00",
          "2020-05-15T07:45:00",
          "2020-05-15T08:00:00",
          "2020-05-15T08:15:00",
          "2020-05-15T08:30:00",
          "2020-05-15T08:45:00",
          "2020-05-15T09:00:00",
          "2020-05-15T09:15:00",
          "2020-05-15T09:30:00",
          "2020-05-15T09:45:00",
          "2020-05-15T10:00:00",
          "2020-05-15T10:15:00",
          "2020-05-15T10:30:00",
          "2020-05-15T10:45:00",
          "2020-05-15T11:00:00",
          "2020-05-15T11:15:00",
          "2020-05-15T11:30:00",
          "2020-05-15T11:45:00",
          "2020-05-15T12:00:00",
          "2020-05-15T12:15:00",
          "2020-05-15T12:30:00",
          "2020-05-15T12:45:00",
          "2020-05-15T13:00:00",
          "2020-05-15T13:15:00",
          "2020-05-15T13:30:00",
          "2020-05-15T13:45:00",
          "2020-05-15T14:00:00",
          "2020-05-15T14:15:00",
          "2020-05-15T14:30:00",
          "2020-05-15T14:45:00",
          "2020-05-15T15:00:00",
          "2020-05-15T15:15:00",
          "2020-05-15T15:30:00",
          "2020-05-15T15:45:00",
          "2020-05-15T16:00:00",
          "2020-05-15T16:15:00",
          "2020-05-15T16:30:00",
          "2020-05-15T16:45:00",
          "2020-05-15T17:00:00",
          "2020-05-15T17:15:00",
          "2020-05-15T17:30:00",
          "2020-05-15T17:45:00",
          "2020-05-15T18:00:00",
          "2020-05-15T18:15:00",
          "2020-05-15T18:30:00",
          "2020-05-15T18:45:00"
         ],
         "xaxis": "x",
         "y": [
          0,
          0,
          0,
          0,
          0,
          0,
          0,
          0,
          0,
          0,
          0,
          0,
          0,
          0,
          0,
          56.125,
          315.1428571,
          719.25,
          1348.142857,
          2009.625,
          2143.714286,
          2109.875,
          2176.857143,
          2816.25,
          4617.142857,
          4948.375,
          5279.428571,
          8274.875,
          3395.714286,
          3996.875,
          8003.857143,
          8481.142857,
          6276.875,
          5257.571429,
          4962,
          7679,
          5966.875,
          8083.857143,
          8465.375,
          6857.857143,
          9022.75,
          10091.71429,
          9249.5,
          6446.285714,
          7089.571429,
          8289.125,
          7920.571429,
          10456.125,
          12319.14286,
          7883.875,
          7273.142857,
          5421,
          7814.142857,
          7868.25,
          4940.714286,
          4867.375,
          4457.428571,
          4580.5,
          3400.142857,
          2165.285714,
          2214.625,
          1176.5,
          536.5,
          311.5714286,
          121.5,
          0,
          0
         ],
         "yaxis": "y"
        },
        {
         "hovertemplate": "variable=AC_POWER<br>DATE_TIME=%{x}<br>value=%{y}<extra></extra>",
         "legendgroup": "AC_POWER",
         "line": {
          "color": "#EF553B",
          "dash": "solid"
         },
         "marker": {
          "symbol": "circle"
         },
         "mode": "lines",
         "name": "AC_POWER",
         "orientation": "v",
         "showlegend": true,
         "type": "scatter",
         "x": [
          "2020-05-15T02:15:00",
          "2020-05-15T02:30:00",
          "2020-05-15T02:45:00",
          "2020-05-15T03:00:00",
          "2020-05-15T03:15:00",
          "2020-05-15T03:30:00",
          "2020-05-15T03:45:00",
          "2020-05-15T04:00:00",
          "2020-05-15T04:15:00",
          "2020-05-15T04:30:00",
          "2020-05-15T04:45:00",
          "2020-05-15T05:00:00",
          "2020-05-15T05:15:00",
          "2020-05-15T05:30:00",
          "2020-05-15T05:45:00",
          "2020-05-15T06:00:00",
          "2020-05-15T06:15:00",
          "2020-05-15T06:30:00",
          "2020-05-15T06:45:00",
          "2020-05-15T07:00:00",
          "2020-05-15T07:15:00",
          "2020-05-15T07:30:00",
          "2020-05-15T07:45:00",
          "2020-05-15T08:00:00",
          "2020-05-15T08:15:00",
          "2020-05-15T08:30:00",
          "2020-05-15T08:45:00",
          "2020-05-15T09:00:00",
          "2020-05-15T09:15:00",
          "2020-05-15T09:30:00",
          "2020-05-15T09:45:00",
          "2020-05-15T10:00:00",
          "2020-05-15T10:15:00",
          "2020-05-15T10:30:00",
          "2020-05-15T10:45:00",
          "2020-05-15T11:00:00",
          "2020-05-15T11:15:00",
          "2020-05-15T11:30:00",
          "2020-05-15T11:45:00",
          "2020-05-15T12:00:00",
          "2020-05-15T12:15:00",
          "2020-05-15T12:30:00",
          "2020-05-15T12:45:00",
          "2020-05-15T13:00:00",
          "2020-05-15T13:15:00",
          "2020-05-15T13:30:00",
          "2020-05-15T13:45:00",
          "2020-05-15T14:00:00",
          "2020-05-15T14:15:00",
          "2020-05-15T14:30:00",
          "2020-05-15T14:45:00",
          "2020-05-15T15:00:00",
          "2020-05-15T15:15:00",
          "2020-05-15T15:30:00",
          "2020-05-15T15:45:00",
          "2020-05-15T16:00:00",
          "2020-05-15T16:15:00",
          "2020-05-15T16:30:00",
          "2020-05-15T16:45:00",
          "2020-05-15T17:00:00",
          "2020-05-15T17:15:00",
          "2020-05-15T17:30:00",
          "2020-05-15T17:45:00",
          "2020-05-15T18:00:00",
          "2020-05-15T18:15:00",
          "2020-05-15T18:30:00",
          "2020-05-15T18:45:00"
         ],
         "xaxis": "x",
         "y": [
          0,
          0,
          0,
          0,
          0,
          0,
          0,
          0,
          0,
          0,
          0,
          0,
          0,
          0,
          0,
          5.425,
          30.44285714,
          69.7375,
          131.5,
          197,
          210.1714286,
          206.85,
          213.4285714,
          276.4625,
          453.1,
          485.35,
          517.7142857,
          809.8,
          333.6428571,
          391.9375,
          782.8,
          828.9428571,
          615.05,
          515.5714286,
          486.55,
          751.1714286,
          584.65,
          790.2,
          827.575,
          671.0285714,
          881.9375,
          985.2142857,
          904.3125,
          631.4142857,
          694.2857143,
          811.2375,
          775.2857143,
          1022.0875,
          1201.442857,
          770.9875,
          711.1285714,
          531.4125,
          764.8142857,
          770.1125,
          484.6142857,
          477.475,
          437.4857143,
          449.5875,
          334.2714286,
          212.2857143,
          217.1625,
          114.675,
          51.9125,
          30.08571429,
          11.75,
          0,
          0
         ],
         "yaxis": "y"
        }
       ],
       "layout": {
        "legend": {
         "title": {
          "text": "variable"
         },
         "tracegroupgap": 0
        },
        "margin": {
         "t": 60
        },
        "template": {
         "data": {
          "bar": [
           {
            "error_x": {
             "color": "#2a3f5f"
            },
            "error_y": {
             "color": "#2a3f5f"
            },
            "marker": {
             "line": {
              "color": "#E5ECF6",
              "width": 0.5
             },
             "pattern": {
              "fillmode": "overlay",
              "size": 10,
              "solidity": 0.2
             }
            },
            "type": "bar"
           }
          ],
          "barpolar": [
           {
            "marker": {
             "line": {
              "color": "#E5ECF6",
              "width": 0.5
             },
             "pattern": {
              "fillmode": "overlay",
              "size": 10,
              "solidity": 0.2
             }
            },
            "type": "barpolar"
           }
          ],
          "carpet": [
           {
            "aaxis": {
             "endlinecolor": "#2a3f5f",
             "gridcolor": "white",
             "linecolor": "white",
             "minorgridcolor": "white",
             "startlinecolor": "#2a3f5f"
            },
            "baxis": {
             "endlinecolor": "#2a3f5f",
             "gridcolor": "white",
             "linecolor": "white",
             "minorgridcolor": "white",
             "startlinecolor": "#2a3f5f"
            },
            "type": "carpet"
           }
          ],
          "choropleth": [
           {
            "colorbar": {
             "outlinewidth": 0,
             "ticks": ""
            },
            "type": "choropleth"
           }
          ],
          "contour": [
           {
            "colorbar": {
             "outlinewidth": 0,
             "ticks": ""
            },
            "colorscale": [
             [
              0,
              "#0d0887"
             ],
             [
              0.1111111111111111,
              "#46039f"
             ],
             [
              0.2222222222222222,
              "#7201a8"
             ],
             [
              0.3333333333333333,
              "#9c179e"
             ],
             [
              0.4444444444444444,
              "#bd3786"
             ],
             [
              0.5555555555555556,
              "#d8576b"
             ],
             [
              0.6666666666666666,
              "#ed7953"
             ],
             [
              0.7777777777777778,
              "#fb9f3a"
             ],
             [
              0.8888888888888888,
              "#fdca26"
             ],
             [
              1,
              "#f0f921"
             ]
            ],
            "type": "contour"
           }
          ],
          "contourcarpet": [
           {
            "colorbar": {
             "outlinewidth": 0,
             "ticks": ""
            },
            "type": "contourcarpet"
           }
          ],
          "heatmap": [
           {
            "colorbar": {
             "outlinewidth": 0,
             "ticks": ""
            },
            "colorscale": [
             [
              0,
              "#0d0887"
             ],
             [
              0.1111111111111111,
              "#46039f"
             ],
             [
              0.2222222222222222,
              "#7201a8"
             ],
             [
              0.3333333333333333,
              "#9c179e"
             ],
             [
              0.4444444444444444,
              "#bd3786"
             ],
             [
              0.5555555555555556,
              "#d8576b"
             ],
             [
              0.6666666666666666,
              "#ed7953"
             ],
             [
              0.7777777777777778,
              "#fb9f3a"
             ],
             [
              0.8888888888888888,
              "#fdca26"
             ],
             [
              1,
              "#f0f921"
             ]
            ],
            "type": "heatmap"
           }
          ],
          "heatmapgl": [
           {
            "colorbar": {
             "outlinewidth": 0,
             "ticks": ""
            },
            "colorscale": [
             [
              0,
              "#0d0887"
             ],
             [
              0.1111111111111111,
              "#46039f"
             ],
             [
              0.2222222222222222,
              "#7201a8"
             ],
             [
              0.3333333333333333,
              "#9c179e"
             ],
             [
              0.4444444444444444,
              "#bd3786"
             ],
             [
              0.5555555555555556,
              "#d8576b"
             ],
             [
              0.6666666666666666,
              "#ed7953"
             ],
             [
              0.7777777777777778,
              "#fb9f3a"
             ],
             [
              0.8888888888888888,
              "#fdca26"
             ],
             [
              1,
              "#f0f921"
             ]
            ],
            "type": "heatmapgl"
           }
          ],
          "histogram": [
           {
            "marker": {
             "pattern": {
              "fillmode": "overlay",
              "size": 10,
              "solidity": 0.2
             }
            },
            "type": "histogram"
           }
          ],
          "histogram2d": [
           {
            "colorbar": {
             "outlinewidth": 0,
             "ticks": ""
            },
            "colorscale": [
             [
              0,
              "#0d0887"
             ],
             [
              0.1111111111111111,
              "#46039f"
             ],
             [
              0.2222222222222222,
              "#7201a8"
             ],
             [
              0.3333333333333333,
              "#9c179e"
             ],
             [
              0.4444444444444444,
              "#bd3786"
             ],
             [
              0.5555555555555556,
              "#d8576b"
             ],
             [
              0.6666666666666666,
              "#ed7953"
             ],
             [
              0.7777777777777778,
              "#fb9f3a"
             ],
             [
              0.8888888888888888,
              "#fdca26"
             ],
             [
              1,
              "#f0f921"
             ]
            ],
            "type": "histogram2d"
           }
          ],
          "histogram2dcontour": [
           {
            "colorbar": {
             "outlinewidth": 0,
             "ticks": ""
            },
            "colorscale": [
             [
              0,
              "#0d0887"
             ],
             [
              0.1111111111111111,
              "#46039f"
             ],
             [
              0.2222222222222222,
              "#7201a8"
             ],
             [
              0.3333333333333333,
              "#9c179e"
             ],
             [
              0.4444444444444444,
              "#bd3786"
             ],
             [
              0.5555555555555556,
              "#d8576b"
             ],
             [
              0.6666666666666666,
              "#ed7953"
             ],
             [
              0.7777777777777778,
              "#fb9f3a"
             ],
             [
              0.8888888888888888,
              "#fdca26"
             ],
             [
              1,
              "#f0f921"
             ]
            ],
            "type": "histogram2dcontour"
           }
          ],
          "mesh3d": [
           {
            "colorbar": {
             "outlinewidth": 0,
             "ticks": ""
            },
            "type": "mesh3d"
           }
          ],
          "parcoords": [
           {
            "line": {
             "colorbar": {
              "outlinewidth": 0,
              "ticks": ""
             }
            },
            "type": "parcoords"
           }
          ],
          "pie": [
           {
            "automargin": true,
            "type": "pie"
           }
          ],
          "scatter": [
           {
            "marker": {
             "colorbar": {
              "outlinewidth": 0,
              "ticks": ""
             }
            },
            "type": "scatter"
           }
          ],
          "scatter3d": [
           {
            "line": {
             "colorbar": {
              "outlinewidth": 0,
              "ticks": ""
             }
            },
            "marker": {
             "colorbar": {
              "outlinewidth": 0,
              "ticks": ""
             }
            },
            "type": "scatter3d"
           }
          ],
          "scattercarpet": [
           {
            "marker": {
             "colorbar": {
              "outlinewidth": 0,
              "ticks": ""
             }
            },
            "type": "scattercarpet"
           }
          ],
          "scattergeo": [
           {
            "marker": {
             "colorbar": {
              "outlinewidth": 0,
              "ticks": ""
             }
            },
            "type": "scattergeo"
           }
          ],
          "scattergl": [
           {
            "marker": {
             "colorbar": {
              "outlinewidth": 0,
              "ticks": ""
             }
            },
            "type": "scattergl"
           }
          ],
          "scattermapbox": [
           {
            "marker": {
             "colorbar": {
              "outlinewidth": 0,
              "ticks": ""
             }
            },
            "type": "scattermapbox"
           }
          ],
          "scatterpolar": [
           {
            "marker": {
             "colorbar": {
              "outlinewidth": 0,
              "ticks": ""
             }
            },
            "type": "scatterpolar"
           }
          ],
          "scatterpolargl": [
           {
            "marker": {
             "colorbar": {
              "outlinewidth": 0,
              "ticks": ""
             }
            },
            "type": "scatterpolargl"
           }
          ],
          "scatterternary": [
           {
            "marker": {
             "colorbar": {
              "outlinewidth": 0,
              "ticks": ""
             }
            },
            "type": "scatterternary"
           }
          ],
          "surface": [
           {
            "colorbar": {
             "outlinewidth": 0,
             "ticks": ""
            },
            "colorscale": [
             [
              0,
              "#0d0887"
             ],
             [
              0.1111111111111111,
              "#46039f"
             ],
             [
              0.2222222222222222,
              "#7201a8"
             ],
             [
              0.3333333333333333,
              "#9c179e"
             ],
             [
              0.4444444444444444,
              "#bd3786"
             ],
             [
              0.5555555555555556,
              "#d8576b"
             ],
             [
              0.6666666666666666,
              "#ed7953"
             ],
             [
              0.7777777777777778,
              "#fb9f3a"
             ],
             [
              0.8888888888888888,
              "#fdca26"
             ],
             [
              1,
              "#f0f921"
             ]
            ],
            "type": "surface"
           }
          ],
          "table": [
           {
            "cells": {
             "fill": {
              "color": "#EBF0F8"
             },
             "line": {
              "color": "white"
             }
            },
            "header": {
             "fill": {
              "color": "#C8D4E3"
             },
             "line": {
              "color": "white"
             }
            },
            "type": "table"
           }
          ]
         },
         "layout": {
          "annotationdefaults": {
           "arrowcolor": "#2a3f5f",
           "arrowhead": 0,
           "arrowwidth": 1
          },
          "autotypenumbers": "strict",
          "coloraxis": {
           "colorbar": {
            "outlinewidth": 0,
            "ticks": ""
           }
          },
          "colorscale": {
           "diverging": [
            [
             0,
             "#8e0152"
            ],
            [
             0.1,
             "#c51b7d"
            ],
            [
             0.2,
             "#de77ae"
            ],
            [
             0.3,
             "#f1b6da"
            ],
            [
             0.4,
             "#fde0ef"
            ],
            [
             0.5,
             "#f7f7f7"
            ],
            [
             0.6,
             "#e6f5d0"
            ],
            [
             0.7,
             "#b8e186"
            ],
            [
             0.8,
             "#7fbc41"
            ],
            [
             0.9,
             "#4d9221"
            ],
            [
             1,
             "#276419"
            ]
           ],
           "sequential": [
            [
             0,
             "#0d0887"
            ],
            [
             0.1111111111111111,
             "#46039f"
            ],
            [
             0.2222222222222222,
             "#7201a8"
            ],
            [
             0.3333333333333333,
             "#9c179e"
            ],
            [
             0.4444444444444444,
             "#bd3786"
            ],
            [
             0.5555555555555556,
             "#d8576b"
            ],
            [
             0.6666666666666666,
             "#ed7953"
            ],
            [
             0.7777777777777778,
             "#fb9f3a"
            ],
            [
             0.8888888888888888,
             "#fdca26"
            ],
            [
             1,
             "#f0f921"
            ]
           ],
           "sequentialminus": [
            [
             0,
             "#0d0887"
            ],
            [
             0.1111111111111111,
             "#46039f"
            ],
            [
             0.2222222222222222,
             "#7201a8"
            ],
            [
             0.3333333333333333,
             "#9c179e"
            ],
            [
             0.4444444444444444,
             "#bd3786"
            ],
            [
             0.5555555555555556,
             "#d8576b"
            ],
            [
             0.6666666666666666,
             "#ed7953"
            ],
            [
             0.7777777777777778,
             "#fb9f3a"
            ],
            [
             0.8888888888888888,
             "#fdca26"
            ],
            [
             1,
             "#f0f921"
            ]
           ]
          },
          "colorway": [
           "#636efa",
           "#EF553B",
           "#00cc96",
           "#ab63fa",
           "#FFA15A",
           "#19d3f3",
           "#FF6692",
           "#B6E880",
           "#FF97FF",
           "#FECB52"
          ],
          "font": {
           "color": "#2a3f5f"
          },
          "geo": {
           "bgcolor": "white",
           "lakecolor": "white",
           "landcolor": "#E5ECF6",
           "showlakes": true,
           "showland": true,
           "subunitcolor": "white"
          },
          "hoverlabel": {
           "align": "left"
          },
          "hovermode": "closest",
          "mapbox": {
           "style": "light"
          },
          "paper_bgcolor": "white",
          "plot_bgcolor": "#E5ECF6",
          "polar": {
           "angularaxis": {
            "gridcolor": "white",
            "linecolor": "white",
            "ticks": ""
           },
           "bgcolor": "#E5ECF6",
           "radialaxis": {
            "gridcolor": "white",
            "linecolor": "white",
            "ticks": ""
           }
          },
          "scene": {
           "xaxis": {
            "backgroundcolor": "#E5ECF6",
            "gridcolor": "white",
            "gridwidth": 2,
            "linecolor": "white",
            "showbackground": true,
            "ticks": "",
            "zerolinecolor": "white"
           },
           "yaxis": {
            "backgroundcolor": "#E5ECF6",
            "gridcolor": "white",
            "gridwidth": 2,
            "linecolor": "white",
            "showbackground": true,
            "ticks": "",
            "zerolinecolor": "white"
           },
           "zaxis": {
            "backgroundcolor": "#E5ECF6",
            "gridcolor": "white",
            "gridwidth": 2,
            "linecolor": "white",
            "showbackground": true,
            "ticks": "",
            "zerolinecolor": "white"
           }
          },
          "shapedefaults": {
           "line": {
            "color": "#2a3f5f"
           }
          },
          "ternary": {
           "aaxis": {
            "gridcolor": "white",
            "linecolor": "white",
            "ticks": ""
           },
           "baxis": {
            "gridcolor": "white",
            "linecolor": "white",
            "ticks": ""
           },
           "bgcolor": "#E5ECF6",
           "caxis": {
            "gridcolor": "white",
            "linecolor": "white",
            "ticks": ""
           }
          },
          "title": {
           "x": 0.05
          },
          "xaxis": {
           "automargin": true,
           "gridcolor": "white",
           "linecolor": "white",
           "ticks": "",
           "title": {
            "standoff": 15
           },
           "zerolinecolor": "white",
           "zerolinewidth": 2
          },
          "yaxis": {
           "automargin": true,
           "gridcolor": "white",
           "linecolor": "white",
           "ticks": "",
           "title": {
            "standoff": 15
           },
           "zerolinecolor": "white",
           "zerolinewidth": 2
          }
         }
        },
        "title": {
         "text": "Power Generation during para las 2:15 PM del 15 de mayo",
         "x": 0.5
        },
        "xaxis": {
         "anchor": "y",
         "domain": [
          0,
          1
         ],
         "title": {
          "text": "DATE_TIME"
         }
        },
        "yaxis": {
         "anchor": "x",
         "domain": [
          0,
          1
         ],
         "title": {
          "text": "value"
         }
        }
       }
      }
     },
     "metadata": {},
     "output_type": "display_data"
    }
   ],
   "source": [
    "data1 = files[0][files[0].SOURCE_KEY == \"adLQvlD726eNBSB\"]\n",
    "data1= data1.set_index('DATE_TIME')\n",
    "\n",
    "stime = \"15-05-2020 2:15\"\n",
    "etime = \"15-05-2020 20:00\"\n",
    "LineChart(data1, [\"DC_POWER\",\"AC_POWER\"],stime,etime,\"Power Generation during para las 2:15 PM del 15 de mayo\")"
   ]
  },
  {
   "cell_type": "markdown",
   "metadata": {},
   "source": [
    "### Creating a table"
   ]
  },
  {
   "cell_type": "code",
   "execution_count": 7,
   "metadata": {},
   "outputs": [
    {
     "name": "stdout",
     "output_type": "stream",
     "text": [
      "Creating the orders_1634687023.5233824 table\n"
     ]
    }
   ],
   "source": [
    "print('Creating the {} table'.format(TABLE_ID))\n",
    "table = instance.table(TABLE_ID)\n",
    "\n",
    "if not table.exists():\n",
    "    table.create()\n",
    "else:\n",
    "    print(\"ERROR: Table {} already exists\".format(TABLE_ID))"
   ]
  },
  {
   "cell_type": "code",
   "execution_count": 8,
   "metadata": {},
   "outputs": [
    {
     "name": "stdout",
     "output_type": "stream",
     "text": [
      "Creating all family columns\n"
     ]
    }
   ],
   "source": [
    "print('Creating all family columns')\n",
    "\n",
    "customer_cfId = 'customer'\n",
    "customer_cf = table.column_family(customer_cfId)\n",
    "customer_cf.create()\n",
    "\n",
    "items_cfId = 'items'\n",
    "items_cf = table.column_family(items_cfId)\n",
    "items_cf.create()\n",
    "\n",
    "delivery_cfId = 'delivery'\n",
    "delivery_cf = table.column_family(delivery_cfId)\n",
    "delivery_cf.create()"
   ]
  },
  {
   "cell_type": "markdown",
   "metadata": {},
   "source": [
    "### Inserting data"
   ]
  },
  {
   "cell_type": "code",
   "execution_count": null,
   "metadata": {},
   "outputs": [],
   "source": [
    "orders = [\n",
    "    {\n",
    "        'orderId': '2497',\n",
    "        'customer': {\n",
    "            'firstName': 'Fabian',\n",
    "            'lastName': 'Penia',\n",
    "            'customerId': '101'\n",
    "        },\n",
    "        'items': [\n",
    "            {\n",
    "                'productId': '3301',\n",
    "                'quantity': '5',\n",
    "                'unitPrice': '12000'\n",
    "            },\n",
    "            {\n",
    "                'productId': '3302',\n",
    "                'quantity': '1',\n",
    "                'unitPrice': '18000'\n",
    "            },\n",
    "            {\n",
    "                'productId': '3303',\n",
    "                'quantity': '2',\n",
    "                'unitPrice': '25000'\n",
    "            }\n",
    "        ],\n",
    "        'delivery': {\n",
    "            'addressLine1': 'Fake Street 123',\n",
    "            'addressLine2': 'House 10',\n",
    "            'city': 'Springfield',\n",
    "            'country': 'US'\n",
    "        }\n",
    "    },\n",
    "    {\n",
    "        'orderId': '2498',\n",
    "        'customer': {\n",
    "            'firstName': 'Pepito',\n",
    "            'lastName': 'Perez',\n",
    "            'customerId': '102'\n",
    "        },\n",
    "        'items': [\n",
    "            {\n",
    "                'productId': '3301',\n",
    "                'quantity': '1',\n",
    "                'unitPrice': '12000'\n",
    "            },\n",
    "            {\n",
    "                'productId': '3306',\n",
    "                'quantity': '3',\n",
    "                'unitPrice': '20000'\n",
    "            }\n",
    "        ],\n",
    "        'delivery': {\n",
    "            'addressLine1': '742 Evergreen Terrace',\n",
    "            'city': 'Springfield',\n",
    "            'country': 'US'\n",
    "        }\n",
    "    }\n",
    "]"
   ]
  },
  {
   "cell_type": "code",
   "execution_count": null,
   "metadata": {},
   "outputs": [],
   "source": [
    "dt = dt.utcnow()\n",
    "rows = []\n",
    "\n",
    "print('Writing orders to the table')\n",
    "for order in orders:\n",
    "    \n",
    "    row_key = 'order#{}'.format(order['orderId']).encode()\n",
    "    row = table.direct_row(row_key)\n",
    "    \n",
    "    row.set_cell(customer_cfId, 'firstName'.encode(), order['customer']['firstName'], timestamp = dt)\n",
    "    row.set_cell(customer_cfId, 'lastName'.encode(), order['customer']['lastName'], timestamp = dt)\n",
    "    row.set_cell(customer_cfId, 'customerId'.encode(), order['customer']['customerId'], timestamp = dt)\n",
    "    \n",
    "    for item in order['items']:\n",
    "        row.set_cell(items_cfId, 'product#{}'.format(item['productId']).encode(), (item['quantity'] + ':' + item['unitPrice']), timestamp = dt)\n",
    "    \n",
    "    row.set_cell(delivery_cfId, 'addressLine1'.encode(), order['delivery']['addressLine1'], timestamp = dt)\n",
    "    try:\n",
    "        row.set_cell(delivery_cfId, 'addressLine2'.encode(), order['delivery']['addressLine2'], timestamp = dt)\n",
    "    except KeyError:\n",
    "        pass\n",
    "    row.set_cell(delivery_cfId, 'city'.encode(), order['delivery']['city'], timestamp = dt)\n",
    "    row.set_cell(delivery_cfId, 'country'.encode(), order['delivery']['country'], timestamp = dt)\n",
    "    \n",
    "    rows.append(row)\n",
    "\n",
    "table.mutate_rows(rows)"
   ]
  },
  {
   "cell_type": "markdown",
   "metadata": {},
   "source": [
    "### Reading data"
   ]
  },
  {
   "cell_type": "code",
   "execution_count": null,
   "metadata": {},
   "outputs": [],
   "source": [
    "print('Getting a single order by row key')\n",
    "key = 'order#2497'.encode()\n",
    "\n",
    "row = table.read_row(key)\n",
    "print_row(row)"
   ]
  },
  {
   "cell_type": "code",
   "execution_count": null,
   "metadata": {},
   "outputs": [],
   "source": [
    "print('Getting a specific product item by row key')\n",
    "key = 'order#2497'.encode()\n",
    "\n",
    "col_filter = row_filters.ColumnQualifierRegexFilter('product#3302'.encode())\n",
    "\n",
    "row = table.read_row(key, filter_ = col_filter)\n",
    "print_row(row)"
   ]
  },
  {
   "cell_type": "code",
   "execution_count": null,
   "metadata": {},
   "outputs": [],
   "source": [
    "print('Getting all orders')\n",
    "\n",
    "rows = table.read_rows()\n",
    "for row in rows:\n",
    "    print_row(row)"
   ]
  },
  {
   "cell_type": "code",
   "execution_count": null,
   "metadata": {},
   "outputs": [],
   "source": [
    "print('Getting a specific column for all orders')\n",
    "\n",
    "col_filter = row_filters.ColumnQualifierRegexFilter('product#3302'.encode())\n",
    "\n",
    "rows = table.read_rows(filter_ = col_filter)\n",
    "for row in rows:\n",
    "    print_row(row)"
   ]
  },
  {
   "cell_type": "markdown",
   "metadata": {},
   "source": [
    "### Deleting a row"
   ]
  },
  {
   "cell_type": "code",
   "execution_count": null,
   "metadata": {},
   "outputs": [],
   "source": [
    "print('Deleting a row by key')\n",
    "key = 'order#2498'.encode()\n",
    "\n",
    "row = table.direct_row(row_key)\n",
    "row.delete()\n",
    "row.commit()"
   ]
  },
  {
   "cell_type": "code",
   "execution_count": null,
   "metadata": {},
   "outputs": [],
   "source": [
    "print('Getting all orders')\n",
    "\n",
    "rows = table.read_rows()\n",
    "for row in rows:\n",
    "    print_row(row)"
   ]
  },
  {
   "cell_type": "markdown",
   "metadata": {},
   "source": [
    "### Deleting table"
   ]
  },
  {
   "cell_type": "code",
   "execution_count": null,
   "metadata": {},
   "outputs": [],
   "source": [
    "print('Deleting the {} table.'.format(TABLE_ID))\n",
    "table.delete()"
   ]
  },
  {
   "cell_type": "markdown",
   "metadata": {},
   "source": [
    "### Functions"
   ]
  },
  {
   "cell_type": "code",
   "execution_count": null,
   "metadata": {},
   "outputs": [],
   "source": [
    "def print_row(row):\n",
    "    print(\"Reading data for {}:\".format(row.row_key.decode('utf-8')))\n",
    "    for cf, cols in sorted(row.cells.items()):\n",
    "        print(\"Column Family {}\".format(cf))\n",
    "        for col, cells in sorted(cols.items()):\n",
    "            for cell in cells:\n",
    "                labels = \" [{}]\".format(\",\".join(cell.labels)) \\\n",
    "                    if len(cell.labels) else \"\"\n",
    "                print(\n",
    "                    \"\\t{}: {} @{}{}\".format(col.decode('utf-8'),\n",
    "                                            cell.value.decode('utf-8'),\n",
    "                                            cell.timestamp, labels))\n",
    "    print(\"\")"
   ]
  },
  {
   "cell_type": "code",
   "execution_count": null,
   "metadata": {},
   "outputs": [],
   "source": [
    "firstName = row.cells[customer_cfId]['firstName'.encode()][0].value.decode('utf-8')\n",
    "lastName = row.cells[customer_cfId]['lastName'.encode()][0].value.decode('utf-8')\n",
    "customerId = row.cells[customer_cfId]['customerId'.encode()][0].value.decode('utf-8')\n",
    "\n",
    "print(firstName + ' | ' + lastName + ' | ' + customerId)\n",
    "print(\"\\n\")\n",
    "\n",
    "for item in [k.decode('utf-8') for k in row.cells[items_cfId].keys()]:\n",
    "    cell_content = row.cells[items_cfId][item.encode()][0].value.decode('utf-8')\n",
    "    print(item + ' | ' + ' | '.join(cell_content.split(':')))\n",
    "    \n",
    "print(\"\\n\")\n",
    "\n",
    "addressLine1 = row.cells[delivery_cfId]['addressLine1'.encode()][0].value.decode('utf-8')\n",
    "addressLine2 = row.cells[delivery_cfId]['addressLine2'.encode()][0].value.decode('utf-8')\n",
    "city = row.cells[delivery_cfId]['city'.encode()][0].value.decode('utf-8')\n",
    "country = row.cells[delivery_cfId]['country'.encode()][0].value.decode('utf-8')\n",
    "\n",
    "print(addressLine1 + ' | ' + addressLine2 + ' | ' + city + ' | ' + country)"
   ]
  }
 ],
 "metadata": {
  "interpreter": {
   "hash": "a14c02d6acbe9b95404714327999708baf2e9a7226df2e6d4dce980040f4687f"
  },
  "kernelspec": {
   "display_name": "Python 3.8.5 64-bit ('base': conda)",
   "name": "python3"
  },
  "language_info": {
   "codemirror_mode": {
    "name": "ipython",
    "version": 3
   },
   "file_extension": ".py",
   "mimetype": "text/x-python",
   "name": "python",
   "nbconvert_exporter": "python",
   "pygments_lexer": "ipython3",
   "version": "3.8.5"
  }
 },
 "nbformat": 4,
 "nbformat_minor": 4
}
