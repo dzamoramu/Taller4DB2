{
 "cells": [
  {
   "cell_type": "code",
   "execution_count": 1,
   "metadata": {},
   "outputs": [],
   "source": [
    "#import the modules\n",
    "import os\n",
    "import numpy as np\n",
    "import pandas as pd\n",
    "import plotly as plt \n",
    "from plotly.subplots import make_subplots\n",
    "import plotly.graph_objects as go\n",
    "import matplotlib.pyplot as plt1"
   ]
  },
  {
   "cell_type": "code",
   "execution_count": 3,
   "metadata": {},
   "outputs": [],
   "source": [
    "import time\n",
    "import google.cloud\n",
    "from datetime import datetime as dt\n",
    "\n",
    "from google.cloud import bigtable\n",
    "from google.cloud.bigtable import column_family\n",
    "from google.cloud.bigtable import row_filters"
   ]
  },
  {
   "cell_type": "code",
   "execution_count": 4,
   "metadata": {},
   "outputs": [],
   "source": [
    "INSTANCE_ID = 'bigtable-1'\n",
    "TABLE_ID = 'workshop_{}'.format(time.time())"
   ]
  },
  {
   "cell_type": "code",
   "execution_count": 5,
   "metadata": {},
   "outputs": [
    {
     "data": {
      "text/plain": [
       "'workshop_1634868974.1706617'"
      ]
     },
     "execution_count": 5,
     "metadata": {},
     "output_type": "execute_result"
    }
   ],
   "source": [
    "TABLE_ID"
   ]
  },
  {
   "cell_type": "code",
   "execution_count": 7,
   "metadata": {},
   "outputs": [],
   "source": [
    "client = bigtable.Client.from_service_account_json('../Data/fourth-silo-325712-d233370abdc0.json', admin = True)"
   ]
  },
  {
   "cell_type": "code",
   "execution_count": 8,
   "metadata": {},
   "outputs": [
    {
     "name": "stdout",
     "output_type": "stream",
     "text": [
      "Connecting to database instance\n"
     ]
    }
   ],
   "source": [
    "print('Connecting to database instance')\n",
    "instance = client.instance(INSTANCE_ID)"
   ]
  },
  {
   "cell_type": "code",
   "execution_count": 9,
   "metadata": {},
   "outputs": [
    {
     "name": "stdout",
     "output_type": "stream",
     "text": [
      "Creating the workshop_1634868974.1706617 table\n"
     ]
    }
   ],
   "source": [
    "print('Creating the {} table'.format(TABLE_ID))\n",
    "table = instance.table(TABLE_ID)\n",
    "\n",
    "if not table.exists():\n",
    "    table.create()\n",
    "else:\n",
    "    print(\"ERROR: Table {} already exists\".format(TABLE_ID))"
   ]
  },
  {
   "cell_type": "markdown",
   "metadata": {},
   "source": [
    "### Creacion CSV"
   ]
  },
  {
   "cell_type": "code",
   "execution_count": 10,
   "metadata": {},
   "outputs": [],
   "source": [
    "plant1_pg = pd.read_csv(\"../Data/Plant_1_Generation_Data.csv\")\n",
    "plant2_pg = pd.read_csv(\"../Data/Plant_1_Weather_Sensor_Data.csv\")\n",
    "plant1_ws = pd.read_csv(\"../Data/Plant_2_Generation_Data.csv\")\n",
    "plant2_ws = pd.read_csv(\"../Data/Plant_2_Weather_Sensor_Data.csv\")\n",
    "\n",
    "#creando un mapa\n",
    "files = {\n",
    "    0: plant1_pg,\n",
    "    1: plant1_ws,\n",
    "    2: plant2_pg,\n",
    "    3: plant2_ws,\n",
    "}"
   ]
  },
  {
   "cell_type": "code",
   "execution_count": 11,
   "metadata": {},
   "outputs": [
    {
     "data": {
      "text/html": [
       "<div>\n",
       "<style scoped>\n",
       "    .dataframe tbody tr th:only-of-type {\n",
       "        vertical-align: middle;\n",
       "    }\n",
       "\n",
       "    .dataframe tbody tr th {\n",
       "        vertical-align: top;\n",
       "    }\n",
       "\n",
       "    .dataframe thead th {\n",
       "        text-align: right;\n",
       "    }\n",
       "</style>\n",
       "<table border=\"1\" class=\"dataframe\">\n",
       "  <thead>\n",
       "    <tr style=\"text-align: right;\">\n",
       "      <th></th>\n",
       "      <th>DATE_TIME</th>\n",
       "      <th>PLANT_ID</th>\n",
       "      <th>SOURCE_KEY</th>\n",
       "      <th>DC_POWER</th>\n",
       "      <th>AC_POWER</th>\n",
       "      <th>DAILY_YIELD</th>\n",
       "      <th>TOTAL_YIELD</th>\n",
       "    </tr>\n",
       "  </thead>\n",
       "  <tbody>\n",
       "    <tr>\n",
       "      <th>63445</th>\n",
       "      <td>15-06-2020 10:45</td>\n",
       "      <td>4135001</td>\n",
       "      <td>ih0vzX44oOqAx2f</td>\n",
       "      <td>11496.85714</td>\n",
       "      <td>1121.8000</td>\n",
       "      <td>2666.714286</td>\n",
       "      <td>6410349.714</td>\n",
       "    </tr>\n",
       "    <tr>\n",
       "      <th>61786</th>\n",
       "      <td>14-06-2020 16:00</td>\n",
       "      <td>4135001</td>\n",
       "      <td>McdE0feGgRqW7Ca</td>\n",
       "      <td>5907.25000</td>\n",
       "      <td>578.8750</td>\n",
       "      <td>6981.625000</td>\n",
       "      <td>7388904.625</td>\n",
       "    </tr>\n",
       "    <tr>\n",
       "      <th>36434</th>\n",
       "      <td>02-06-2020 13:45</td>\n",
       "      <td>4135001</td>\n",
       "      <td>1BY6WEcLGh8j5v7</td>\n",
       "      <td>12181.50000</td>\n",
       "      <td>1188.4125</td>\n",
       "      <td>4966.875000</td>\n",
       "      <td>6388405.875</td>\n",
       "    </tr>\n",
       "    <tr>\n",
       "      <th>39298</th>\n",
       "      <td>03-06-2020 22:45</td>\n",
       "      <td>4135001</td>\n",
       "      <td>3PZuoBAID5Wc2HD</td>\n",
       "      <td>0.00000</td>\n",
       "      <td>0.0000</td>\n",
       "      <td>7874.000000</td>\n",
       "      <td>7136488.000</td>\n",
       "    </tr>\n",
       "    <tr>\n",
       "      <th>52404</th>\n",
       "      <td>10-06-2020 05:15</td>\n",
       "      <td>4135001</td>\n",
       "      <td>sjndEbLyjtCKgGv</td>\n",
       "      <td>0.00000</td>\n",
       "      <td>0.0000</td>\n",
       "      <td>0.000000</td>\n",
       "      <td>7209095.000</td>\n",
       "    </tr>\n",
       "  </tbody>\n",
       "</table>\n",
       "</div>"
      ],
      "text/plain": [
       "              DATE_TIME  PLANT_ID       SOURCE_KEY     DC_POWER   AC_POWER  \\\n",
       "63445  15-06-2020 10:45   4135001  ih0vzX44oOqAx2f  11496.85714  1121.8000   \n",
       "61786  14-06-2020 16:00   4135001  McdE0feGgRqW7Ca   5907.25000   578.8750   \n",
       "36434  02-06-2020 13:45   4135001  1BY6WEcLGh8j5v7  12181.50000  1188.4125   \n",
       "39298  03-06-2020 22:45   4135001  3PZuoBAID5Wc2HD      0.00000     0.0000   \n",
       "52404  10-06-2020 05:15   4135001  sjndEbLyjtCKgGv      0.00000     0.0000   \n",
       "\n",
       "       DAILY_YIELD  TOTAL_YIELD  \n",
       "63445  2666.714286  6410349.714  \n",
       "61786  6981.625000  7388904.625  \n",
       "36434  4966.875000  6388405.875  \n",
       "39298  7874.000000  7136488.000  \n",
       "52404     0.000000  7209095.000  "
      ]
     },
     "execution_count": 11,
     "metadata": {},
     "output_type": "execute_result"
    }
   ],
   "source": [
    "#datos de generación de energía de la planta 1\n",
    "files[0].sample(5)"
   ]
  },
  {
   "cell_type": "code",
   "execution_count": 12,
   "metadata": {},
   "outputs": [
    {
     "data": {
      "text/html": [
       "<div>\n",
       "<style scoped>\n",
       "    .dataframe tbody tr th:only-of-type {\n",
       "        vertical-align: middle;\n",
       "    }\n",
       "\n",
       "    .dataframe tbody tr th {\n",
       "        vertical-align: top;\n",
       "    }\n",
       "\n",
       "    .dataframe thead th {\n",
       "        text-align: right;\n",
       "    }\n",
       "</style>\n",
       "<table border=\"1\" class=\"dataframe\">\n",
       "  <thead>\n",
       "    <tr style=\"text-align: right;\">\n",
       "      <th></th>\n",
       "      <th>DATE_TIME</th>\n",
       "      <th>PLANT_ID</th>\n",
       "      <th>SOURCE_KEY</th>\n",
       "      <th>DC_POWER</th>\n",
       "      <th>AC_POWER</th>\n",
       "      <th>DAILY_YIELD</th>\n",
       "      <th>TOTAL_YIELD</th>\n",
       "    </tr>\n",
       "  </thead>\n",
       "  <tbody>\n",
       "    <tr>\n",
       "      <th>22342</th>\n",
       "      <td>2020-05-27 00:15:00</td>\n",
       "      <td>4136001</td>\n",
       "      <td>4UPUqMRk7TRMgml</td>\n",
       "      <td>0.000000</td>\n",
       "      <td>0.00</td>\n",
       "      <td>9501.000000</td>\n",
       "      <td>2.516326e+06</td>\n",
       "    </tr>\n",
       "    <tr>\n",
       "      <th>15732</th>\n",
       "      <td>2020-05-23 04:15:00</td>\n",
       "      <td>4136001</td>\n",
       "      <td>q49J1IKaHRwDQnt</td>\n",
       "      <td>0.000000</td>\n",
       "      <td>0.00</td>\n",
       "      <td>9333.000000</td>\n",
       "      <td>3.835040e+05</td>\n",
       "    </tr>\n",
       "    <tr>\n",
       "      <th>64065</th>\n",
       "      <td>2020-06-16 06:30:00</td>\n",
       "      <td>4136001</td>\n",
       "      <td>vOuJvMaM2sgwLmb</td>\n",
       "      <td>72.866667</td>\n",
       "      <td>70.66</td>\n",
       "      <td>18.666667</td>\n",
       "      <td>2.417854e+06</td>\n",
       "    </tr>\n",
       "    <tr>\n",
       "      <th>40676</th>\n",
       "      <td>2020-06-05 04:45:00</td>\n",
       "      <td>4136001</td>\n",
       "      <td>oZZkBaNadn6DNKz</td>\n",
       "      <td>0.000000</td>\n",
       "      <td>0.00</td>\n",
       "      <td>0.000000</td>\n",
       "      <td>1.708216e+09</td>\n",
       "    </tr>\n",
       "    <tr>\n",
       "      <th>61308</th>\n",
       "      <td>2020-06-14 23:15:00</td>\n",
       "      <td>4136001</td>\n",
       "      <td>V94E5Ben1TlhnDV</td>\n",
       "      <td>0.000000</td>\n",
       "      <td>0.00</td>\n",
       "      <td>3304.000000</td>\n",
       "      <td>1.412280e+09</td>\n",
       "    </tr>\n",
       "  </tbody>\n",
       "</table>\n",
       "</div>"
      ],
      "text/plain": [
       "                 DATE_TIME  PLANT_ID       SOURCE_KEY   DC_POWER  AC_POWER  \\\n",
       "22342  2020-05-27 00:15:00   4136001  4UPUqMRk7TRMgml   0.000000      0.00   \n",
       "15732  2020-05-23 04:15:00   4136001  q49J1IKaHRwDQnt   0.000000      0.00   \n",
       "64065  2020-06-16 06:30:00   4136001  vOuJvMaM2sgwLmb  72.866667     70.66   \n",
       "40676  2020-06-05 04:45:00   4136001  oZZkBaNadn6DNKz   0.000000      0.00   \n",
       "61308  2020-06-14 23:15:00   4136001  V94E5Ben1TlhnDV   0.000000      0.00   \n",
       "\n",
       "       DAILY_YIELD   TOTAL_YIELD  \n",
       "22342  9501.000000  2.516326e+06  \n",
       "15732  9333.000000  3.835040e+05  \n",
       "64065    18.666667  2.417854e+06  \n",
       "40676     0.000000  1.708216e+09  \n",
       "61308  3304.000000  1.412280e+09  "
      ]
     },
     "execution_count": 12,
     "metadata": {},
     "output_type": "execute_result"
    }
   ],
   "source": [
    "#datos del sensor meteorológico de la planta 1\n",
    "files[1].sample(5)"
   ]
  },
  {
   "cell_type": "code",
   "execution_count": 13,
   "metadata": {},
   "outputs": [
    {
     "data": {
      "text/html": [
       "<div>\n",
       "<style scoped>\n",
       "    .dataframe tbody tr th:only-of-type {\n",
       "        vertical-align: middle;\n",
       "    }\n",
       "\n",
       "    .dataframe tbody tr th {\n",
       "        vertical-align: top;\n",
       "    }\n",
       "\n",
       "    .dataframe thead th {\n",
       "        text-align: right;\n",
       "    }\n",
       "</style>\n",
       "<table border=\"1\" class=\"dataframe\">\n",
       "  <thead>\n",
       "    <tr style=\"text-align: right;\">\n",
       "      <th></th>\n",
       "      <th>DATE_TIME</th>\n",
       "      <th>PLANT_ID</th>\n",
       "      <th>SOURCE_KEY</th>\n",
       "      <th>AMBIENT_TEMPERATURE</th>\n",
       "      <th>MODULE_TEMPERATURE</th>\n",
       "      <th>IRRADIATION</th>\n",
       "    </tr>\n",
       "  </thead>\n",
       "  <tbody>\n",
       "    <tr>\n",
       "      <th>2180</th>\n",
       "      <td>2020-06-07 13:30:00</td>\n",
       "      <td>4135001</td>\n",
       "      <td>HmiyD2TTLFNqkNe</td>\n",
       "      <td>29.890330</td>\n",
       "      <td>55.834263</td>\n",
       "      <td>0.832460</td>\n",
       "    </tr>\n",
       "    <tr>\n",
       "      <th>2310</th>\n",
       "      <td>2020-06-08 22:00:00</td>\n",
       "      <td>4135001</td>\n",
       "      <td>HmiyD2TTLFNqkNe</td>\n",
       "      <td>23.163002</td>\n",
       "      <td>20.393292</td>\n",
       "      <td>0.000000</td>\n",
       "    </tr>\n",
       "    <tr>\n",
       "      <th>1743</th>\n",
       "      <td>2020-06-03 00:00:00</td>\n",
       "      <td>4135001</td>\n",
       "      <td>HmiyD2TTLFNqkNe</td>\n",
       "      <td>23.157129</td>\n",
       "      <td>20.891465</td>\n",
       "      <td>0.000000</td>\n",
       "    </tr>\n",
       "    <tr>\n",
       "      <th>2871</th>\n",
       "      <td>2020-06-14 18:15:00</td>\n",
       "      <td>4135001</td>\n",
       "      <td>HmiyD2TTLFNqkNe</td>\n",
       "      <td>25.136102</td>\n",
       "      <td>24.723273</td>\n",
       "      <td>0.019034</td>\n",
       "    </tr>\n",
       "    <tr>\n",
       "      <th>735</th>\n",
       "      <td>2020-05-23 07:30:00</td>\n",
       "      <td>4135001</td>\n",
       "      <td>HmiyD2TTLFNqkNe</td>\n",
       "      <td>23.204710</td>\n",
       "      <td>27.907205</td>\n",
       "      <td>0.229117</td>\n",
       "    </tr>\n",
       "    <tr>\n",
       "      <th>1971</th>\n",
       "      <td>2020-06-05 09:15:00</td>\n",
       "      <td>4135001</td>\n",
       "      <td>HmiyD2TTLFNqkNe</td>\n",
       "      <td>26.326908</td>\n",
       "      <td>43.225736</td>\n",
       "      <td>0.661409</td>\n",
       "    </tr>\n",
       "  </tbody>\n",
       "</table>\n",
       "</div>"
      ],
      "text/plain": [
       "                DATE_TIME  PLANT_ID       SOURCE_KEY  AMBIENT_TEMPERATURE  \\\n",
       "2180  2020-06-07 13:30:00   4135001  HmiyD2TTLFNqkNe            29.890330   \n",
       "2310  2020-06-08 22:00:00   4135001  HmiyD2TTLFNqkNe            23.163002   \n",
       "1743  2020-06-03 00:00:00   4135001  HmiyD2TTLFNqkNe            23.157129   \n",
       "2871  2020-06-14 18:15:00   4135001  HmiyD2TTLFNqkNe            25.136102   \n",
       "735   2020-05-23 07:30:00   4135001  HmiyD2TTLFNqkNe            23.204710   \n",
       "1971  2020-06-05 09:15:00   4135001  HmiyD2TTLFNqkNe            26.326908   \n",
       "\n",
       "      MODULE_TEMPERATURE  IRRADIATION  \n",
       "2180           55.834263     0.832460  \n",
       "2310           20.393292     0.000000  \n",
       "1743           20.891465     0.000000  \n",
       "2871           24.723273     0.019034  \n",
       "735            27.907205     0.229117  \n",
       "1971           43.225736     0.661409  "
      ]
     },
     "execution_count": 13,
     "metadata": {},
     "output_type": "execute_result"
    }
   ],
   "source": [
    "#datos de generación de energía de la planta 2\n",
    "files[2].sample(6)"
   ]
  },
  {
   "cell_type": "code",
   "execution_count": 14,
   "metadata": {},
   "outputs": [
    {
     "data": {
      "text/html": [
       "<div>\n",
       "<style scoped>\n",
       "    .dataframe tbody tr th:only-of-type {\n",
       "        vertical-align: middle;\n",
       "    }\n",
       "\n",
       "    .dataframe tbody tr th {\n",
       "        vertical-align: top;\n",
       "    }\n",
       "\n",
       "    .dataframe thead th {\n",
       "        text-align: right;\n",
       "    }\n",
       "</style>\n",
       "<table border=\"1\" class=\"dataframe\">\n",
       "  <thead>\n",
       "    <tr style=\"text-align: right;\">\n",
       "      <th></th>\n",
       "      <th>DATE_TIME</th>\n",
       "      <th>PLANT_ID</th>\n",
       "      <th>SOURCE_KEY</th>\n",
       "      <th>AMBIENT_TEMPERATURE</th>\n",
       "      <th>MODULE_TEMPERATURE</th>\n",
       "      <th>IRRADIATION</th>\n",
       "    </tr>\n",
       "  </thead>\n",
       "  <tbody>\n",
       "    <tr>\n",
       "      <th>2284</th>\n",
       "      <td>2020-06-07 20:15:00</td>\n",
       "      <td>4136001</td>\n",
       "      <td>iq8k7ZNt4Mwm3w0</td>\n",
       "      <td>27.481502</td>\n",
       "      <td>26.081216</td>\n",
       "      <td>0.000000</td>\n",
       "    </tr>\n",
       "    <tr>\n",
       "      <th>1035</th>\n",
       "      <td>2020-05-25 19:15:00</td>\n",
       "      <td>4136001</td>\n",
       "      <td>iq8k7ZNt4Mwm3w0</td>\n",
       "      <td>33.980353</td>\n",
       "      <td>31.387653</td>\n",
       "      <td>0.000000</td>\n",
       "    </tr>\n",
       "    <tr>\n",
       "      <th>1458</th>\n",
       "      <td>2020-05-30 05:15:00</td>\n",
       "      <td>4136001</td>\n",
       "      <td>iq8k7ZNt4Mwm3w0</td>\n",
       "      <td>23.834682</td>\n",
       "      <td>22.318359</td>\n",
       "      <td>0.000000</td>\n",
       "    </tr>\n",
       "    <tr>\n",
       "      <th>3213</th>\n",
       "      <td>2020-06-17 12:30:00</td>\n",
       "      <td>4136001</td>\n",
       "      <td>iq8k7ZNt4Mwm3w0</td>\n",
       "      <td>28.204097</td>\n",
       "      <td>37.502086</td>\n",
       "      <td>0.470896</td>\n",
       "    </tr>\n",
       "    <tr>\n",
       "      <th>1137</th>\n",
       "      <td>2020-05-26 20:45:00</td>\n",
       "      <td>4136001</td>\n",
       "      <td>iq8k7ZNt4Mwm3w0</td>\n",
       "      <td>30.678416</td>\n",
       "      <td>29.306707</td>\n",
       "      <td>0.000000</td>\n",
       "    </tr>\n",
       "    <tr>\n",
       "      <th>2749</th>\n",
       "      <td>2020-06-12 16:30:00</td>\n",
       "      <td>4136001</td>\n",
       "      <td>iq8k7ZNt4Mwm3w0</td>\n",
       "      <td>27.547284</td>\n",
       "      <td>30.637098</td>\n",
       "      <td>0.156705</td>\n",
       "    </tr>\n",
       "    <tr>\n",
       "      <th>2992</th>\n",
       "      <td>2020-06-15 05:15:00</td>\n",
       "      <td>4136001</td>\n",
       "      <td>iq8k7ZNt4Mwm3w0</td>\n",
       "      <td>24.454231</td>\n",
       "      <td>23.661917</td>\n",
       "      <td>0.000000</td>\n",
       "    </tr>\n",
       "  </tbody>\n",
       "</table>\n",
       "</div>"
      ],
      "text/plain": [
       "                DATE_TIME  PLANT_ID       SOURCE_KEY  AMBIENT_TEMPERATURE  \\\n",
       "2284  2020-06-07 20:15:00   4136001  iq8k7ZNt4Mwm3w0            27.481502   \n",
       "1035  2020-05-25 19:15:00   4136001  iq8k7ZNt4Mwm3w0            33.980353   \n",
       "1458  2020-05-30 05:15:00   4136001  iq8k7ZNt4Mwm3w0            23.834682   \n",
       "3213  2020-06-17 12:30:00   4136001  iq8k7ZNt4Mwm3w0            28.204097   \n",
       "1137  2020-05-26 20:45:00   4136001  iq8k7ZNt4Mwm3w0            30.678416   \n",
       "2749  2020-06-12 16:30:00   4136001  iq8k7ZNt4Mwm3w0            27.547284   \n",
       "2992  2020-06-15 05:15:00   4136001  iq8k7ZNt4Mwm3w0            24.454231   \n",
       "\n",
       "      MODULE_TEMPERATURE  IRRADIATION  \n",
       "2284           26.081216     0.000000  \n",
       "1035           31.387653     0.000000  \n",
       "1458           22.318359     0.000000  \n",
       "3213           37.502086     0.470896  \n",
       "1137           29.306707     0.000000  \n",
       "2749           30.637098     0.156705  \n",
       "2992           23.661917     0.000000  "
      ]
     },
     "execution_count": 14,
     "metadata": {},
     "output_type": "execute_result"
    }
   ],
   "source": [
    "#datos del sensor meteorológico de la planta 2\n",
    "files[3].sample(7)"
   ]
  },
  {
   "cell_type": "markdown",
   "metadata": {},
   "source": [
    "### Inserting data de los csv cargados previamente"
   ]
  },
  {
   "cell_type": "code",
   "execution_count": 15,
   "metadata": {},
   "outputs": [],
   "source": [
    "for i in range(len(files)):\n",
    "    files[i][\"DATE_TIME\"] = pd.to_datetime(files[i][\"DATE_TIME\"])\n",
    "    files[i] =  files[i].drop(columns=[\"PLANT_ID\"], axis=1)"
   ]
  },
  {
   "cell_type": "code",
   "execution_count": 16,
   "metadata": {},
   "outputs": [],
   "source": [
    "import plotly.express as px\n",
    "\n",
    "#Metodo para crear la grafica inicial de la consulta por la clave\n",
    "def LineChart(temp_df,columns,start_date_time,end_date_time, title):\n",
    "    temp_df = temp_df.loc[start_date_time : end_date_time]\n",
    "    fig = px.line(temp_df[columns])\n",
    "    fig.update_layout(title_text = title, title_x=0.5)\n",
    "    fig.show()"
   ]
  },
  {
   "cell_type": "markdown",
   "metadata": {},
   "source": [
    "### Consulta 1"
   ]
  },
  {
   "cell_type": "code",
   "execution_count": 19,
   "metadata": {},
   "outputs": [
    {
     "data": {
      "text/plain": [
       "[<matplotlib.lines.Line2D at 0x1b8d70bd730>]"
      ]
     },
     "execution_count": 19,
     "metadata": {},
     "output_type": "execute_result"
    },
    {
     "data": {
      "image/png": "[encoded data removed]",
      "text/plain": [
       "<Figure size 432x288 with 1 Axes>"
      ]
     },
     "metadata": {
      "needs_background": "light"
     },
     "output_type": "display_data"
    }
   ],
   "source": [
    "data0 = files[3][files[3].SOURCE_KEY == \"iq8k7ZNt4Mwm3w0\"]\n",
    "#data0= data0.set_index('DATE_TIME')\n",
    "x_values = data0['AMBIENT_TEMPERATURE']\n",
    "y_values = data0['DATE_TIME']\n",
    "plt1.ylim = ['01-06-2020 06:00','01-06-2020 06:00']\n",
    "plt1.plot(x_values, y_values)\n",
    "\n",
    "\n",
    "\n"
   ]
  },
  {
   "cell_type": "markdown",
   "metadata": {},
   "source": [
    "### Consulta 2"
   ]
  },
  {
   "cell_type": "code",
   "execution_count": 20,
   "metadata": {},
   "outputs": [
    {
     "data": {
      "application/vnd.plotly.v1+json": {
       "config": {
        "plotlyServerURL": "https://plot.ly"
       },
       "data": [
        {
         "hovertemplate": "variable=DC_POWER<br>DATE_TIME=%{x}<br>value=%{y}<extra></extra>",
         "legendgroup": "DC_POWER",
         "line": {
          "color": "#636efa",
          "dash": "solid"
         },
         "marker": {
          "symbol": "circle"
         },
         "mode": "lines",
         "name": "DC_POWER",
         "orientation": "v",
         "showlegend": true,
         "type": "scatter",
         "x": [
          "2020-05-15T02:15:00",
          "2020-05-15T02:30:00",
          "2020-05-15T02:45:00",
          "2020-05-15T03:00:00",
          "2020-05-15T03:15:00",
          "2020-05-15T03:30:00",
          "2020-05-15T03:45:00",
          "2020-05-15T04:00:00",
          "2020-05-15T04:15:00",
          "2020-05-15T04:30:00",
          "2020-05-15T04:45:00",
          "2020-05-15T05:00:00",
          "2020-05-15T05:15:00",
          "2020-05-15T05:30:00",
          "2020-05-15T05:45:00",
          "2020-05-15T06:00:00",
          "2020-05-15T06:15:00",
          "2020-05-15T06:30:00",
          "2020-05-15T06:45:00",
          "2020-05-15T07:00:00",
          "2020-05-15T07:15:00",
          "2020-05-15T07:30:00",
          "2020-05-15T07:45:00",
          "2020-05-15T08:00:00",
          "2020-05-15T08:15:00",
          "2020-05-15T08:30:00",
          "2020-05-15T08:45:00",
          "2020-05-15T09:00:00",
          "2020-05-15T09:15:00",
          "2020-05-15T09:30:00",
          "2020-05-15T09:45:00",
          "2020-05-15T10:00:00",
          "2020-05-15T10:15:00",
          "2020-05-15T10:30:00",
          "2020-05-15T10:45:00",
          "2020-05-15T11:00:00",
          "2020-05-15T11:15:00",
          "2020-05-15T11:30:00",
          "2020-05-15T11:45:00",
          "2020-05-15T12:00:00",
          "2020-05-15T12:15:00",
          "2020-05-15T12:30:00",
          "2020-05-15T12:45:00",
          "2020-05-15T13:00:00",
          "2020-05-15T13:15:00",
          "2020-05-15T13:30:00",
          "2020-05-15T13:45:00",
          "2020-05-15T14:00:00",
          "2020-05-15T14:15:00",
          "2020-05-15T14:30:00",
          "2020-05-15T14:45:00",
          "2020-05-15T15:00:00",
          "2020-05-15T15:15:00",
          "2020-05-15T15:30:00",
          "2020-05-15T15:45:00",
          "2020-05-15T16:00:00",
          "2020-05-15T16:15:00",
          "2020-05-15T16:30:00",
          "2020-05-15T16:45:00",
          "2020-05-15T17:00:00",
          "2020-05-15T17:15:00",
          "2020-05-15T17:30:00",
          "2020-05-15T17:45:00",
          "2020-05-15T18:00:00",
          "2020-05-15T18:15:00",
          "2020-05-15T18:30:00",
          "2020-05-15T18:45:00"
         ],
         "xaxis": "x",
         "y": [
          0,
          0,
          0,
          0,
          0,
          0,
          0,
          0,
          0,
          0,
          0,
          0,
          0,
          0,
          0,
          56.125,
          315.1428571,
          719.25,
          1348.142857,
          2009.625,
          2143.714286,
          2109.875,
          2176.857143,
          2816.25,
          4617.142857,
          4948.375,
          5279.428571,
          8274.875,
          3395.714286,
          3996.875,
          8003.857143,
          8481.142857,
          6276.875,
          5257.571429,
          4962,
          7679,
          5966.875,
          8083.857143,
          8465.375,
          6857.857143,
          9022.75,
          10091.71429,
          9249.5,
          6446.285714,
          7089.571429,
          8289.125,
          7920.571429,
          10456.125,
          12319.14286,
          7883.875,
          7273.142857,
          5421,
          7814.142857,
          7868.25,
          4940.714286,
          4867.375,
          4457.428571,
          4580.5,
          3400.142857,
          2165.285714,
          2214.625,
          1176.5,
          536.5,
          311.5714286,
          121.5,
          0,
          0
         ],
         "yaxis": "y"
        },
        {
         "hovertemplate": "variable=AC_POWER<br>DATE_TIME=%{x}<br>value=%{y}<extra></extra>",
         "legendgroup": "AC_POWER",
         "line": {
          "color": "#EF553B",
          "dash": "solid"
         },
         "marker": {
          "symbol": "circle"
         },
         "mode": "lines",
         "name": "AC_POWER",
         "orientation": "v",
         "showlegend": true,
         "type": "scatter",
         "x": [
          "2020-05-15T02:15:00",
          "2020-05-15T02:30:00",
          "2020-05-15T02:45:00",
          "2020-05-15T03:00:00",
          "2020-05-15T03:15:00",
          "2020-05-15T03:30:00",
          "2020-05-15T03:45:00",
          "2020-05-15T04:00:00",
          "2020-05-15T04:15:00",
          "2020-05-15T04:30:00",
          "2020-05-15T04:45:00",
          "2020-05-15T05:00:00",
          "2020-05-15T05:15:00",
          "2020-05-15T05:30:00",
          "2020-05-15T05:45:00",
          "2020-05-15T06:00:00",
          "2020-05-15T06:15:00",
          "2020-05-15T06:30:00",
          "2020-05-15T06:45:00",
          "2020-05-15T07:00:00",
          "2020-05-15T07:15:00",
          "2020-05-15T07:30:00",
          "2020-05-15T07:45:00",
          "2020-05-15T08:00:00",
          "2020-05-15T08:15:00",
          "2020-05-15T08:30:00",
          "2020-05-15T08:45:00",
          "2020-05-15T09:00:00",
          "2020-05-15T09:15:00",
          "2020-05-15T09:30:00",
          "2020-05-15T09:45:00",
          "2020-05-15T10:00:00",
          "2020-05-15T10:15:00",
          "2020-05-15T10:30:00",
          "2020-05-15T10:45:00",
          "2020-05-15T11:00:00",
          "2020-05-15T11:15:00",
          "2020-05-15T11:30:00",
          "2020-05-15T11:45:00",
          "2020-05-15T12:00:00",
          "2020-05-15T12:15:00",
          "2020-05-15T12:30:00",
          "2020-05-15T12:45:00",
          "2020-05-15T13:00:00",
          "2020-05-15T13:15:00",
          "2020-05-15T13:30:00",
          "2020-05-15T13:45:00",
          "2020-05-15T14:00:00",
          "2020-05-15T14:15:00",
          "2020-05-15T14:30:00",
          "2020-05-15T14:45:00",
          "2020-05-15T15:00:00",
          "2020-05-15T15:15:00",
          "2020-05-15T15:30:00",
          "2020-05-15T15:45:00",
          "2020-05-15T16:00:00",
          "2020-05-15T16:15:00",
          "2020-05-15T16:30:00",
          "2020-05-15T16:45:00",
          "2020-05-15T17:00:00",
          "2020-05-15T17:15:00",
          "2020-05-15T17:30:00",
          "2020-05-15T17:45:00",
          "2020-05-15T18:00:00",
          "2020-05-15T18:15:00",
          "2020-05-15T18:30:00",
          "2020-05-15T18:45:00"
         ],
         "xaxis": "x",
         "y": [
          0,
          0,
          0,
          0,
          0,
          0,
          0,
          0,
          0,
          0,
          0,
          0,
          0,
          0,
          0,
          5.425,
          30.44285714,
          69.7375,
          131.5,
          197,
          210.1714286,
          206.85,
          213.4285714,
          276.4625,
          453.1,
          485.35,
          517.7142857,
          809.8,
          333.6428571,
          391.9375,
          782.8,
          828.9428571,
          615.05,
          515.5714286,
          486.55,
          751.1714286,
          584.65,
          790.2,
          827.575,
          671.0285714,
          881.9375,
          985.2142857,
          904.3125,
          631.4142857,
          694.2857143,
          811.2375,
          775.2857143,
          1022.0875,
          1201.442857,
          770.9875,
          711.1285714,
          531.4125,
          764.8142857,
          770.1125,
          484.6142857,
          477.475,
          437.4857143,
          449.5875,
          334.2714286,
          212.2857143,
          217.1625,
          114.675,
          51.9125,
          30.08571429,
          11.75,
          0,
          0
         ],
         "yaxis": "y"
        }
       ],
       "layout": {
        "legend": {
         "title": {
          "text": "variable"
         },
         "tracegroupgap": 0
        },
        "margin": {
         "t": 60
        },
        "template": {
         "data": {
          "bar": [
           {
            "error_x": {
             "color": "#2a3f5f"
            },
            "error_y": {
             "color": "#2a3f5f"
            },
            "marker": {
             "line": {
              "color": "#E5ECF6",
              "width": 0.5
             },
             "pattern": {
              "fillmode": "overlay",
              "size": 10,
              "solidity": 0.2
             }
            },
            "type": "bar"
           }
          ],
          "barpolar": [
           {
            "marker": {
             "line": {
              "color": "#E5ECF6",
              "width": 0.5
             },
             "pattern": {
              "fillmode": "overlay",
              "size": 10,
              "solidity": 0.2
             }
            },
            "type": "barpolar"
           }
          ],
          "carpet": [
           {
            "aaxis": {
             "endlinecolor": "#2a3f5f",
             "gridcolor": "white",
             "linecolor": "white",
             "minorgridcolor": "white",
             "startlinecolor": "#2a3f5f"
            },
            "baxis": {
             "endlinecolor": "#2a3f5f",
             "gridcolor": "white",
             "linecolor": "white",
             "minorgridcolor": "white",
             "startlinecolor": "#2a3f5f"
            },
            "type": "carpet"
           }
          ],
          "choropleth": [
           {
            "colorbar": {
             "outlinewidth": 0,
             "ticks": ""
            },
            "type": "choropleth"
           }
          ],
          "contour": [
           {
            "colorbar": {
             "outlinewidth": 0,
             "ticks": ""
            },
            "colorscale": [
             [
              0,
              "#0d0887"
             ],
             [
              0.1111111111111111,
              "#46039f"
             ],
             [
              0.2222222222222222,
              "#7201a8"
             ],
             [
              0.3333333333333333,
              "#9c179e"
             ],
             [
              0.4444444444444444,
              "#bd3786"
             ],
             [
              0.5555555555555556,
              "#d8576b"
             ],
             [
              0.6666666666666666,
              "#ed7953"
             ],
             [
              0.7777777777777778,
              "#fb9f3a"
             ],
             [
              0.8888888888888888,
              "#fdca26"
             ],
             [
              1,
              "#f0f921"
             ]
            ],
            "type": "contour"
           }
          ],
          "contourcarpet": [
           {
            "colorbar": {
             "outlinewidth": 0,
             "ticks": ""
            },
            "type": "contourcarpet"
           }
          ],
          "heatmap": [
           {
            "colorbar": {
             "outlinewidth": 0,
             "ticks": ""
            },
            "colorscale": [
             [
              0,
              "#0d0887"
             ],
             [
              0.1111111111111111,
              "#46039f"
             ],
             [
              0.2222222222222222,
              "#7201a8"
             ],
             [
              0.3333333333333333,
              "#9c179e"
             ],
             [
              0.4444444444444444,
              "#bd3786"
             ],
             [
              0.5555555555555556,
              "#d8576b"
             ],
             [
              0.6666666666666666,
              "#ed7953"
             ],
             [
              0.7777777777777778,
              "#fb9f3a"
             ],
             [
              0.8888888888888888,
              "#fdca26"
             ],
             [
              1,
              "#f0f921"
             ]
            ],
            "type": "heatmap"
           }
          ],
          "heatmapgl": [
           {
            "colorbar": {
             "outlinewidth": 0,
             "ticks": ""
            },
            "colorscale": [
             [
              0,
              "#0d0887"
             ],
             [
              0.1111111111111111,
              "#46039f"
             ],
             [
              0.2222222222222222,
              "#7201a8"
             ],
             [
              0.3333333333333333,
              "#9c179e"
             ],
             [
              0.4444444444444444,
              "#bd3786"
             ],
             [
              0.5555555555555556,
              "#d8576b"
             ],
             [
              0.6666666666666666,
              "#ed7953"
             ],
             [
              0.7777777777777778,
              "#fb9f3a"
             ],
             [
              0.8888888888888888,
              "#fdca26"
             ],
             [
              1,
              "#f0f921"
             ]
            ],
            "type": "heatmapgl"
           }
          ],
          "histogram": [
           {
            "marker": {
             "pattern": {
              "fillmode": "overlay",
              "size": 10,
              "solidity": 0.2
             }
            },
            "type": "histogram"
           }
          ],
          "histogram2d": [
           {
            "colorbar": {
             "outlinewidth": 0,
             "ticks": ""
            },
            "colorscale": [
             [
              0,
              "#0d0887"
             ],
             [
              0.1111111111111111,
              "#46039f"
             ],
             [
              0.2222222222222222,
              "#7201a8"
             ],
             [
              0.3333333333333333,
              "#9c179e"
             ],
             [
              0.4444444444444444,
              "#bd3786"
             ],
             [
              0.5555555555555556,
              "#d8576b"
             ],
             [
              0.6666666666666666,
              "#ed7953"
             ],
             [
              0.7777777777777778,
              "#fb9f3a"
             ],
             [
              0.8888888888888888,
              "#fdca26"
             ],
             [
              1,
              "#f0f921"
             ]
            ],
            "type": "histogram2d"
           }
          ],
          "histogram2dcontour": [
           {
            "colorbar": {
             "outlinewidth": 0,
             "ticks": ""
            },
            "colorscale": [
             [
              0,
              "#0d0887"
             ],
             [
              0.1111111111111111,
              "#46039f"
             ],
             [
              0.2222222222222222,
              "#7201a8"
             ],
             [
              0.3333333333333333,
              "#9c179e"
             ],
             [
              0.4444444444444444,
              "#bd3786"
             ],
             [
              0.5555555555555556,
              "#d8576b"
             ],
             [
              0.6666666666666666,
              "#ed7953"
             ],
             [
              0.7777777777777778,
              "#fb9f3a"
             ],
             [
              0.8888888888888888,
              "#fdca26"
             ],
             [
              1,
              "#f0f921"
             ]
            ],
            "type": "histogram2dcontour"
           }
          ],
          "mesh3d": [
           {
            "colorbar": {
             "outlinewidth": 0,
             "ticks": ""
            },
            "type": "mesh3d"
           }
          ],
          "parcoords": [
           {
            "line": {
             "colorbar": {
              "outlinewidth": 0,
              "ticks": ""
             }
            },
            "type": "parcoords"
           }
          ],
          "pie": [
           {
            "automargin": true,
            "type": "pie"
           }
          ],
          "scatter": [
           {
            "marker": {
             "colorbar": {
              "outlinewidth": 0,
              "ticks": ""
             }
            },
            "type": "scatter"
           }
          ],
          "scatter3d": [
           {
            "line": {
             "colorbar": {
              "outlinewidth": 0,
              "ticks": ""
             }
            },
            "marker": {
             "colorbar": {
              "outlinewidth": 0,
              "ticks": ""
             }
            },
            "type": "scatter3d"
           }
          ],
          "scattercarpet": [
           {
            "marker": {
             "colorbar": {
              "outlinewidth": 0,
              "ticks": ""
             }
            },
            "type": "scattercarpet"
           }
          ],
          "scattergeo": [
           {
            "marker": {
             "colorbar": {
              "outlinewidth": 0,
              "ticks": ""
             }
            },
            "type": "scattergeo"
           }
          ],
          "scattergl": [
           {
            "marker": {
             "colorbar": {
              "outlinewidth": 0,
              "ticks": ""
             }
            },
            "type": "scattergl"
           }
          ],
          "scattermapbox": [
           {
            "marker": {
             "colorbar": {
              "outlinewidth": 0,
              "ticks": ""
             }
            },
            "type": "scattermapbox"
           }
          ],
          "scatterpolar": [
           {
            "marker": {
             "colorbar": {
              "outlinewidth": 0,
              "ticks": ""
             }
            },
            "type": "scatterpolar"
           }
          ],
          "scatterpolargl": [
           {
            "marker": {
             "colorbar": {
              "outlinewidth": 0,
              "ticks": ""
             }
            },
            "type": "scatterpolargl"
           }
          ],
          "scatterternary": [
           {
            "marker": {
             "colorbar": {
              "outlinewidth": 0,
              "ticks": ""
             }
            },
            "type": "scatterternary"
           }
          ],
          "surface": [
           {
            "colorbar": {
             "outlinewidth": 0,
             "ticks": ""
            },
            "colorscale": [
             [
              0,
              "#0d0887"
             ],
             [
              0.1111111111111111,
              "#46039f"
             ],
             [
              0.2222222222222222,
              "#7201a8"
             ],
             [
              0.3333333333333333,
              "#9c179e"
             ],
             [
              0.4444444444444444,
              "#bd3786"
             ],
             [
              0.5555555555555556,
              "#d8576b"
             ],
             [
              0.6666666666666666,
              "#ed7953"
             ],
             [
              0.7777777777777778,
              "#fb9f3a"
             ],
             [
              0.8888888888888888,
              "#fdca26"
             ],
             [
              1,
              "#f0f921"
             ]
            ],
            "type": "surface"
           }
          ],
          "table": [
           {
            "cells": {
             "fill": {
              "color": "#EBF0F8"
             },
             "line": {
              "color": "white"
             }
            },
            "header": {
             "fill": {
              "color": "#C8D4E3"
             },
             "line": {
              "color": "white"
             }
            },
            "type": "table"
           }
          ]
         },
         "layout": {
          "annotationdefaults": {
           "arrowcolor": "#2a3f5f",
           "arrowhead": 0,
           "arrowwidth": 1
          },
          "autotypenumbers": "strict",
          "coloraxis": {
           "colorbar": {
            "outlinewidth": 0,
            "ticks": ""
           }
          },
          "colorscale": {
           "diverging": [
            [
             0,
             "#8e0152"
            ],
            [
             0.1,
             "#c51b7d"
            ],
            [
             0.2,
             "#de77ae"
            ],
            [
             0.3,
             "#f1b6da"
            ],
            [
             0.4,
             "#fde0ef"
            ],
            [
             0.5,
             "#f7f7f7"
            ],
            [
             0.6,
             "#e6f5d0"
            ],
            [
             0.7,
             "#b8e186"
            ],
            [
             0.8,
             "#7fbc41"
            ],
            [
             0.9,
             "#4d9221"
            ],
            [
             1,
             "#276419"
            ]
           ],
           "sequential": [
            [
             0,
             "#0d0887"
            ],
            [
             0.1111111111111111,
             "#46039f"
            ],
            [
             0.2222222222222222,
             "#7201a8"
            ],
            [
             0.3333333333333333,
             "#9c179e"
            ],
            [
             0.4444444444444444,
             "#bd3786"
            ],
            [
             0.5555555555555556,
             "#d8576b"
            ],
            [
             0.6666666666666666,
             "#ed7953"
            ],
            [
             0.7777777777777778,
             "#fb9f3a"
            ],
            [
             0.8888888888888888,
             "#fdca26"
            ],
            [
             1,
             "#f0f921"
            ]
           ],
           "sequentialminus": [
            [
             0,
             "#0d0887"
            ],
            [
             0.1111111111111111,
             "#46039f"
            ],
            [
             0.2222222222222222,
             "#7201a8"
            ],
            [
             0.3333333333333333,
             "#9c179e"
            ],
            [
             0.4444444444444444,
             "#bd3786"
            ],
            [
             0.5555555555555556,
             "#d8576b"
            ],
            [
             0.6666666666666666,
             "#ed7953"
            ],
            [
             0.7777777777777778,
             "#fb9f3a"
            ],
            [
             0.8888888888888888,
             "#fdca26"
            ],
            [
             1,
             "#f0f921"
            ]
           ]
          },
          "colorway": [
           "#636efa",
           "#EF553B",
           "#00cc96",
           "#ab63fa",
           "#FFA15A",
           "#19d3f3",
           "#FF6692",
           "#B6E880",
           "#FF97FF",
           "#FECB52"
          ],
          "font": {
           "color": "#2a3f5f"
          },
          "geo": {
           "bgcolor": "white",
           "lakecolor": "white",
           "landcolor": "#E5ECF6",
           "showlakes": true,
           "showland": true,
           "subunitcolor": "white"
          },
          "hoverlabel": {
           "align": "left"
          },
          "hovermode": "closest",
          "mapbox": {
           "style": "light"
          },
          "paper_bgcolor": "white",
          "plot_bgcolor": "#E5ECF6",
          "polar": {
           "angularaxis": {
            "gridcolor": "white",
            "linecolor": "white",
            "ticks": ""
           },
           "bgcolor": "#E5ECF6",
           "radialaxis": {
            "gridcolor": "white",
            "linecolor": "white",
            "ticks": ""
           }
          },
          "scene": {
           "xaxis": {
            "backgroundcolor": "#E5ECF6",
            "gridcolor": "white",
            "gridwidth": 2,
            "linecolor": "white",
            "showbackground": true,
            "ticks": "",
            "zerolinecolor": "white"
           },
           "yaxis": {
            "backgroundcolor": "#E5ECF6",
            "gridcolor": "white",
            "gridwidth": 2,
            "linecolor": "white",
            "showbackground": true,
            "ticks": "",
            "zerolinecolor": "white"
           },
           "zaxis": {
            "backgroundcolor": "#E5ECF6",
            "gridcolor": "white",
            "gridwidth": 2,
            "linecolor": "white",
            "showbackground": true,
            "ticks": "",
            "zerolinecolor": "white"
           }
          },
          "shapedefaults": {
           "line": {
            "color": "#2a3f5f"
           }
          },
          "ternary": {
           "aaxis": {
            "gridcolor": "white",
            "linecolor": "white",
            "ticks": ""
           },
           "baxis": {
            "gridcolor": "white",
            "linecolor": "white",
            "ticks": ""
           },
           "bgcolor": "#E5ECF6",
           "caxis": {
            "gridcolor": "white",
            "linecolor": "white",
            "ticks": ""
           }
          },
          "title": {
           "x": 0.05
          },
          "xaxis": {
           "automargin": true,
           "gridcolor": "white",
           "linecolor": "white",
           "ticks": "",
           "title": {
            "standoff": 15
           },
           "zerolinecolor": "white",
           "zerolinewidth": 2
          },
          "yaxis": {
           "automargin": true,
           "gridcolor": "white",
           "linecolor": "white",
           "ticks": "",
           "title": {
            "standoff": 15
           },
           "zerolinecolor": "white",
           "zerolinewidth": 2
          }
         }
        },
        "title": {
         "text": "Power Generation during para las 2:15 PM del 15 de mayo",
         "x": 0.5
        },
        "xaxis": {
         "anchor": "y",
         "domain": [
          0,
          1
         ],
         "title": {
          "text": "DATE_TIME"
         }
        },
        "yaxis": {
         "anchor": "x",
         "domain": [
          0,
          1
         ],
         "title": {
          "text": "value"
         }
        }
       }
      }
     },
     "metadata": {},
     "output_type": "display_data"
    }
   ],
   "source": [
    "data1 = files[0][files[0].SOURCE_KEY == \"adLQvlD726eNBSB\"]\n",
    "data1= data1.set_index('DATE_TIME')\n",
    "\n",
    "stime = \"15-05-2020 2:15\"\n",
    "etime = \"15-05-2020 20:00\"\n",
    "LineChart(data1, [\"DC_POWER\",\"AC_POWER\"],stime,etime,\"Power Generation during para las 2:15 PM del 15 de mayo\")"
   ]
  },
  {
   "cell_type": "markdown",
   "metadata": {},
   "source": [
    "### Reading data"
   ]
  },
  {
   "cell_type": "code",
   "execution_count": 21,
   "metadata": {},
   "outputs": [
    {
     "name": "stdout",
     "output_type": "stream",
     "text": [
      "Getting all orders\n"
     ]
    }
   ],
   "source": [
    "print('Getting all orders')\n",
    "\n",
    "rows = table.read_rows()\n",
    "for row in rows:\n",
    "    print_row(row)"
   ]
  },
  {
   "cell_type": "code",
   "execution_count": 22,
   "metadata": {},
   "outputs": [
    {
     "name": "stdout",
     "output_type": "stream",
     "text": [
      "Getting a specific column for all orders\n"
     ]
    }
   ],
   "source": [
    "print('Getting a specific column for all orders')\n",
    "\n",
    "col_filter = row_filters.ColumnQualifierRegexFilter('product#3302'.encode())\n",
    "\n",
    "rows = table.read_rows(filter_ = col_filter)\n",
    "for row in rows:\n",
    "    print_row(row)"
   ]
  },
  {
   "cell_type": "markdown",
   "metadata": {},
   "source": [
    "### Deleting a row"
   ]
  },
  {
   "cell_type": "code",
   "execution_count": null,
   "metadata": {},
   "outputs": [],
   "source": [
    "print('Getting all orders')\n",
    "\n",
    "rows = table.read_rows()\n",
    "for row in rows:\n",
    "    print_row(row)"
   ]
  },
  {
   "cell_type": "markdown",
   "metadata": {},
   "source": [
    "### Deleting table"
   ]
  },
  {
   "cell_type": "code",
   "execution_count": null,
   "metadata": {},
   "outputs": [],
   "source": [
    "print('Deleting the {} table.'.format(TABLE_ID))\n",
    "table.delete()"
   ]
  },
  {
   "cell_type": "markdown",
   "metadata": {},
   "source": [
    "### Functions"
   ]
  },
  {
   "cell_type": "code",
   "execution_count": null,
   "metadata": {},
   "outputs": [],
   "source": [
    "def print_row(row):\n",
    "    print(\"Reading data for {}:\".format(row.row_key.decode('utf-8')))\n",
    "    for cf, cols in sorted(row.cells.items()):\n",
    "        print(\"Column Family {}\".format(cf))\n",
    "        for col, cells in sorted(cols.items()):\n",
    "            for cell in cells:\n",
    "                labels = \" [{}]\".format(\",\".join(cell.labels)) \\\n",
    "                    if len(cell.labels) else \"\"\n",
    "                print(\n",
    "                    \"\\t{}: {} @{}{}\".format(col.decode('utf-8'),\n",
    "                                            cell.value.decode('utf-8'),\n",
    "                                            cell.timestamp, labels))\n",
    "    print(\"\")"
   ]
  },
  {
   "cell_type": "code",
   "execution_count": null,
   "metadata": {},
   "outputs": [],
   "source": [
    "firstName = row.cells[customer_cfId]['firstName'.encode()][0].value.decode('utf-8')\n",
    "lastName = row.cells[customer_cfId]['lastName'.encode()][0].value.decode('utf-8')\n",
    "customerId = row.cells[customer_cfId]['customerId'.encode()][0].value.decode('utf-8')\n",
    "\n",
    "print(firstName + ' | ' + lastName + ' | ' + customerId)\n",
    "print(\"\\n\")\n",
    "\n",
    "for item in [k.decode('utf-8') for k in row.cells[items_cfId].keys()]:\n",
    "    cell_content = row.cells[items_cfId][item.encode()][0].value.decode('utf-8')\n",
    "    print(item + ' | ' + ' | '.join(cell_content.split(':')))\n",
    "    \n",
    "print(\"\\n\")\n",
    "\n",
    "addressLine1 = row.cells[delivery_cfId]['addressLine1'.encode()][0].value.decode('utf-8')\n",
    "addressLine2 = row.cells[delivery_cfId]['addressLine2'.encode()][0].value.decode('utf-8')\n",
    "city = row.cells[delivery_cfId]['city'.encode()][0].value.decode('utf-8')\n",
    "country = row.cells[delivery_cfId]['country'.encode()][0].value.decode('utf-8')\n",
    "\n",
    "print(addressLine1 + ' | ' + addressLine2 + ' | ' + city + ' | ' + country)"
   ]
  }
 ],
 "metadata": {
  "interpreter": {
   "hash": "a14c02d6acbe9b95404714327999708baf2e9a7226df2e6d4dce980040f4687f"
  },
  "kernelspec": {
   "display_name": "Python 3.8.5 64-bit ('base': conda)",
   "name": "python3"
  },
  "language_info": {
   "codemirror_mode": {
    "name": "ipython",
    "version": 3
   },
   "file_extension": ".py",
   "mimetype": "text/x-python",
   "name": "python",
   "nbconvert_exporter": "python",
   "pygments_lexer": "ipython3",
   "version": "3.8.5"
  }
 },
 "nbformat": 4,
 "nbformat_minor": 4
}
